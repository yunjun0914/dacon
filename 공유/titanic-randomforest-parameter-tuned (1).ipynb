{
 "cells": [
  {
   "cell_type": "code",
   "execution_count": 1,
   "id": "d137bab8",
   "metadata": {
    "_cell_guid": "b1076dfc-b9ad-4769-8c92-a6c4dae69d19",
    "_uuid": "8f2839f25d086af736a60e9eeb907d3b93b6e0e5",
    "execution": {
     "iopub.execute_input": "2025-01-31T05:36:55.806762Z",
     "iopub.status.busy": "2025-01-31T05:36:55.806362Z",
     "iopub.status.idle": "2025-01-31T05:37:17.719241Z",
     "shell.execute_reply": "2025-01-31T05:37:17.718007Z"
    },
    "papermill": {
     "duration": 21.921607,
     "end_time": "2025-01-31T05:37:17.721015",
     "exception": false,
     "start_time": "2025-01-31T05:36:55.799408",
     "status": "completed"
    },
    "tags": []
   },
   "outputs": [
    {
     "name": "stdout",
     "output_type": "stream",
     "text": [
      "tf version is 2.17.1\n",
      "tfdf version is 1.10.0\n"
     ]
    }
   ],
   "source": [
    "import pandas as pd\n",
    "import numpy as np\n",
    "import seaborn as sns\n",
    "import matplotlib.pyplot as plt\n",
    "import tensorflow as tf\n",
    "import tensorflow_decision_forests as tfdf\n",
    "import statsmodels.api as sm\n",
    "from sklearn.model_selection import train_test_split\n",
    "from sklearn.preprocessing import LabelEncoder\n",
    "\n",
    "print(f\"tf version is {tf.__version__}\")\n",
    "print(f\"tfdf version is {tfdf.__version__}\")"
   ]
  },
  {
   "cell_type": "code",
   "execution_count": 2,
   "id": "ef0cd2b5",
   "metadata": {
    "execution": {
     "iopub.execute_input": "2025-01-31T05:37:17.732993Z",
     "iopub.status.busy": "2025-01-31T05:37:17.732317Z",
     "iopub.status.idle": "2025-01-31T05:37:17.778892Z",
     "shell.execute_reply": "2025-01-31T05:37:17.777793Z"
    },
    "papermill": {
     "duration": 0.054405,
     "end_time": "2025-01-31T05:37:17.780909",
     "exception": false,
     "start_time": "2025-01-31T05:37:17.726504",
     "status": "completed"
    },
    "tags": []
   },
   "outputs": [
    {
     "data": {
      "text/html": [
       "<div>\n",
       "<style scoped>\n",
       "    .dataframe tbody tr th:only-of-type {\n",
       "        vertical-align: middle;\n",
       "    }\n",
       "\n",
       "    .dataframe tbody tr th {\n",
       "        vertical-align: top;\n",
       "    }\n",
       "\n",
       "    .dataframe thead th {\n",
       "        text-align: right;\n",
       "    }\n",
       "</style>\n",
       "<table border=\"1\" class=\"dataframe\">\n",
       "  <thead>\n",
       "    <tr style=\"text-align: right;\">\n",
       "      <th></th>\n",
       "      <th>PassengerId</th>\n",
       "      <th>Survived</th>\n",
       "      <th>Pclass</th>\n",
       "      <th>Name</th>\n",
       "      <th>Sex</th>\n",
       "      <th>Age</th>\n",
       "      <th>SibSp</th>\n",
       "      <th>Parch</th>\n",
       "      <th>Ticket</th>\n",
       "      <th>Fare</th>\n",
       "      <th>Cabin</th>\n",
       "      <th>Embarked</th>\n",
       "    </tr>\n",
       "  </thead>\n",
       "  <tbody>\n",
       "    <tr>\n",
       "      <th>0</th>\n",
       "      <td>1</td>\n",
       "      <td>0</td>\n",
       "      <td>3</td>\n",
       "      <td>Braund, Mr. Owen Harris</td>\n",
       "      <td>male</td>\n",
       "      <td>22.0</td>\n",
       "      <td>1</td>\n",
       "      <td>0</td>\n",
       "      <td>A/5 21171</td>\n",
       "      <td>7.2500</td>\n",
       "      <td>NaN</td>\n",
       "      <td>S</td>\n",
       "    </tr>\n",
       "    <tr>\n",
       "      <th>1</th>\n",
       "      <td>2</td>\n",
       "      <td>1</td>\n",
       "      <td>1</td>\n",
       "      <td>Cumings, Mrs. John Bradley (Florence Briggs Th...</td>\n",
       "      <td>female</td>\n",
       "      <td>38.0</td>\n",
       "      <td>1</td>\n",
       "      <td>0</td>\n",
       "      <td>PC 17599</td>\n",
       "      <td>71.2833</td>\n",
       "      <td>C85</td>\n",
       "      <td>C</td>\n",
       "    </tr>\n",
       "    <tr>\n",
       "      <th>2</th>\n",
       "      <td>3</td>\n",
       "      <td>1</td>\n",
       "      <td>3</td>\n",
       "      <td>Heikkinen, Miss. Laina</td>\n",
       "      <td>female</td>\n",
       "      <td>26.0</td>\n",
       "      <td>0</td>\n",
       "      <td>0</td>\n",
       "      <td>STON/O2. 3101282</td>\n",
       "      <td>7.9250</td>\n",
       "      <td>NaN</td>\n",
       "      <td>S</td>\n",
       "    </tr>\n",
       "    <tr>\n",
       "      <th>3</th>\n",
       "      <td>4</td>\n",
       "      <td>1</td>\n",
       "      <td>1</td>\n",
       "      <td>Futrelle, Mrs. Jacques Heath (Lily May Peel)</td>\n",
       "      <td>female</td>\n",
       "      <td>35.0</td>\n",
       "      <td>1</td>\n",
       "      <td>0</td>\n",
       "      <td>113803</td>\n",
       "      <td>53.1000</td>\n",
       "      <td>C123</td>\n",
       "      <td>S</td>\n",
       "    </tr>\n",
       "    <tr>\n",
       "      <th>4</th>\n",
       "      <td>5</td>\n",
       "      <td>0</td>\n",
       "      <td>3</td>\n",
       "      <td>Allen, Mr. William Henry</td>\n",
       "      <td>male</td>\n",
       "      <td>35.0</td>\n",
       "      <td>0</td>\n",
       "      <td>0</td>\n",
       "      <td>373450</td>\n",
       "      <td>8.0500</td>\n",
       "      <td>NaN</td>\n",
       "      <td>S</td>\n",
       "    </tr>\n",
       "  </tbody>\n",
       "</table>\n",
       "</div>"
      ],
      "text/plain": [
       "   PassengerId  Survived  Pclass  \\\n",
       "0            1         0       3   \n",
       "1            2         1       1   \n",
       "2            3         1       3   \n",
       "3            4         1       1   \n",
       "4            5         0       3   \n",
       "\n",
       "                                                Name     Sex   Age  SibSp  \\\n",
       "0                            Braund, Mr. Owen Harris    male  22.0      1   \n",
       "1  Cumings, Mrs. John Bradley (Florence Briggs Th...  female  38.0      1   \n",
       "2                             Heikkinen, Miss. Laina  female  26.0      0   \n",
       "3       Futrelle, Mrs. Jacques Heath (Lily May Peel)  female  35.0      1   \n",
       "4                           Allen, Mr. William Henry    male  35.0      0   \n",
       "\n",
       "   Parch            Ticket     Fare Cabin Embarked  \n",
       "0      0         A/5 21171   7.2500   NaN        S  \n",
       "1      0          PC 17599  71.2833   C85        C  \n",
       "2      0  STON/O2. 3101282   7.9250   NaN        S  \n",
       "3      0            113803  53.1000  C123        S  \n",
       "4      0            373450   8.0500   NaN        S  "
      ]
     },
     "execution_count": 2,
     "metadata": {},
     "output_type": "execute_result"
    }
   ],
   "source": [
    "train_df = pd.read_csv(\"/kaggle/input/titanic/train.csv\")\n",
    "train_df.head()"
   ]
  },
  {
   "cell_type": "code",
   "execution_count": 3,
   "id": "ba4b67be",
   "metadata": {
    "execution": {
     "iopub.execute_input": "2025-01-31T05:37:17.793489Z",
     "iopub.status.busy": "2025-01-31T05:37:17.793077Z",
     "iopub.status.idle": "2025-01-31T05:37:17.799675Z",
     "shell.execute_reply": "2025-01-31T05:37:17.798684Z"
    },
    "papermill": {
     "duration": 0.014612,
     "end_time": "2025-01-31T05:37:17.801237",
     "exception": false,
     "start_time": "2025-01-31T05:37:17.786625",
     "status": "completed"
    },
    "tags": []
   },
   "outputs": [
    {
     "data": {
      "text/plain": [
       "array(['S', 'C', 'Q', nan], dtype=object)"
      ]
     },
     "execution_count": 3,
     "metadata": {},
     "output_type": "execute_result"
    }
   ],
   "source": [
    "train_df[\"Embarked\"].unique()"
   ]
  },
  {
   "cell_type": "code",
   "execution_count": 4,
   "id": "40b0a891",
   "metadata": {
    "execution": {
     "iopub.execute_input": "2025-01-31T05:37:17.814014Z",
     "iopub.status.busy": "2025-01-31T05:37:17.813631Z",
     "iopub.status.idle": "2025-01-31T05:37:17.823681Z",
     "shell.execute_reply": "2025-01-31T05:37:17.822639Z"
    },
    "papermill": {
     "duration": 0.01862,
     "end_time": "2025-01-31T05:37:17.825373",
     "exception": false,
     "start_time": "2025-01-31T05:37:17.806753",
     "status": "completed"
    },
    "tags": []
   },
   "outputs": [],
   "source": [
    "train_df = train_df.drop(\"PassengerId\", axis = 1)"
   ]
  },
  {
   "cell_type": "code",
   "execution_count": 5,
   "id": "1ff02966",
   "metadata": {
    "execution": {
     "iopub.execute_input": "2025-01-31T05:37:17.837668Z",
     "iopub.status.busy": "2025-01-31T05:37:17.837312Z",
     "iopub.status.idle": "2025-01-31T05:37:17.898877Z",
     "shell.execute_reply": "2025-01-31T05:37:17.897860Z"
    },
    "papermill": {
     "duration": 0.069489,
     "end_time": "2025-01-31T05:37:17.900597",
     "exception": false,
     "start_time": "2025-01-31T05:37:17.831108",
     "status": "completed"
    },
    "tags": []
   },
   "outputs": [
    {
     "data": {
      "text/html": [
       "<div>\n",
       "<style scoped>\n",
       "    .dataframe tbody tr th:only-of-type {\n",
       "        vertical-align: middle;\n",
       "    }\n",
       "\n",
       "    .dataframe tbody tr th {\n",
       "        vertical-align: top;\n",
       "    }\n",
       "\n",
       "    .dataframe thead th {\n",
       "        text-align: right;\n",
       "    }\n",
       "</style>\n",
       "<table border=\"1\" class=\"dataframe\">\n",
       "  <thead>\n",
       "    <tr style=\"text-align: right;\">\n",
       "      <th></th>\n",
       "      <th>Survived</th>\n",
       "      <th>Pclass</th>\n",
       "      <th>Sex</th>\n",
       "      <th>SibSp</th>\n",
       "      <th>Parch</th>\n",
       "      <th>Fare</th>\n",
       "      <th>Cabin</th>\n",
       "      <th>Embarked</th>\n",
       "      <th>Ticket_items</th>\n",
       "      <th>Ticket_number</th>\n",
       "      <th>Age_categorical</th>\n",
       "      <th>Family</th>\n",
       "      <th>Len_Name</th>\n",
       "      <th>Title</th>\n",
       "      <th>Categorical_Fare</th>\n",
       "      <th>Is_Alone</th>\n",
       "    </tr>\n",
       "  </thead>\n",
       "  <tbody>\n",
       "    <tr>\n",
       "      <th>0</th>\n",
       "      <td>0</td>\n",
       "      <td>3</td>\n",
       "      <td>0</td>\n",
       "      <td>1</td>\n",
       "      <td>0</td>\n",
       "      <td>7.2500</td>\n",
       "      <td>7</td>\n",
       "      <td>2</td>\n",
       "      <td>1</td>\n",
       "      <td>21171</td>\n",
       "      <td>20</td>\n",
       "      <td>2</td>\n",
       "      <td>23</td>\n",
       "      <td>1</td>\n",
       "      <td>1</td>\n",
       "      <td>0</td>\n",
       "    </tr>\n",
       "    <tr>\n",
       "      <th>1</th>\n",
       "      <td>1</td>\n",
       "      <td>1</td>\n",
       "      <td>1</td>\n",
       "      <td>1</td>\n",
       "      <td>0</td>\n",
       "      <td>71.2833</td>\n",
       "      <td>2</td>\n",
       "      <td>0</td>\n",
       "      <td>10</td>\n",
       "      <td>17599</td>\n",
       "      <td>30</td>\n",
       "      <td>2</td>\n",
       "      <td>51</td>\n",
       "      <td>2</td>\n",
       "      <td>4</td>\n",
       "      <td>0</td>\n",
       "    </tr>\n",
       "    <tr>\n",
       "      <th>2</th>\n",
       "      <td>1</td>\n",
       "      <td>3</td>\n",
       "      <td>1</td>\n",
       "      <td>0</td>\n",
       "      <td>0</td>\n",
       "      <td>7.9250</td>\n",
       "      <td>7</td>\n",
       "      <td>2</td>\n",
       "      <td>21</td>\n",
       "      <td>3101282</td>\n",
       "      <td>20</td>\n",
       "      <td>1</td>\n",
       "      <td>22</td>\n",
       "      <td>2</td>\n",
       "      <td>2</td>\n",
       "      <td>1</td>\n",
       "    </tr>\n",
       "    <tr>\n",
       "      <th>3</th>\n",
       "      <td>1</td>\n",
       "      <td>1</td>\n",
       "      <td>1</td>\n",
       "      <td>1</td>\n",
       "      <td>0</td>\n",
       "      <td>53.1000</td>\n",
       "      <td>2</td>\n",
       "      <td>2</td>\n",
       "      <td>9</td>\n",
       "      <td>113803</td>\n",
       "      <td>30</td>\n",
       "      <td>2</td>\n",
       "      <td>44</td>\n",
       "      <td>2</td>\n",
       "      <td>4</td>\n",
       "      <td>0</td>\n",
       "    </tr>\n",
       "    <tr>\n",
       "      <th>4</th>\n",
       "      <td>0</td>\n",
       "      <td>3</td>\n",
       "      <td>0</td>\n",
       "      <td>0</td>\n",
       "      <td>0</td>\n",
       "      <td>8.0500</td>\n",
       "      <td>7</td>\n",
       "      <td>2</td>\n",
       "      <td>9</td>\n",
       "      <td>373450</td>\n",
       "      <td>30</td>\n",
       "      <td>1</td>\n",
       "      <td>24</td>\n",
       "      <td>1</td>\n",
       "      <td>2</td>\n",
       "      <td>1</td>\n",
       "    </tr>\n",
       "    <tr>\n",
       "      <th>5</th>\n",
       "      <td>0</td>\n",
       "      <td>3</td>\n",
       "      <td>0</td>\n",
       "      <td>0</td>\n",
       "      <td>0</td>\n",
       "      <td>8.4583</td>\n",
       "      <td>7</td>\n",
       "      <td>1</td>\n",
       "      <td>9</td>\n",
       "      <td>330877</td>\n",
       "      <td>20</td>\n",
       "      <td>1</td>\n",
       "      <td>16</td>\n",
       "      <td>1</td>\n",
       "      <td>3</td>\n",
       "      <td>1</td>\n",
       "    </tr>\n",
       "    <tr>\n",
       "      <th>6</th>\n",
       "      <td>0</td>\n",
       "      <td>1</td>\n",
       "      <td>0</td>\n",
       "      <td>0</td>\n",
       "      <td>0</td>\n",
       "      <td>51.8625</td>\n",
       "      <td>4</td>\n",
       "      <td>2</td>\n",
       "      <td>9</td>\n",
       "      <td>17463</td>\n",
       "      <td>50</td>\n",
       "      <td>1</td>\n",
       "      <td>23</td>\n",
       "      <td>1</td>\n",
       "      <td>4</td>\n",
       "      <td>1</td>\n",
       "    </tr>\n",
       "    <tr>\n",
       "      <th>7</th>\n",
       "      <td>0</td>\n",
       "      <td>3</td>\n",
       "      <td>0</td>\n",
       "      <td>3</td>\n",
       "      <td>1</td>\n",
       "      <td>21.0750</td>\n",
       "      <td>7</td>\n",
       "      <td>2</td>\n",
       "      <td>9</td>\n",
       "      <td>349909</td>\n",
       "      <td>0</td>\n",
       "      <td>5</td>\n",
       "      <td>30</td>\n",
       "      <td>0</td>\n",
       "      <td>1</td>\n",
       "      <td>0</td>\n",
       "    </tr>\n",
       "    <tr>\n",
       "      <th>8</th>\n",
       "      <td>1</td>\n",
       "      <td>3</td>\n",
       "      <td>1</td>\n",
       "      <td>0</td>\n",
       "      <td>2</td>\n",
       "      <td>11.1333</td>\n",
       "      <td>7</td>\n",
       "      <td>2</td>\n",
       "      <td>9</td>\n",
       "      <td>347742</td>\n",
       "      <td>20</td>\n",
       "      <td>3</td>\n",
       "      <td>49</td>\n",
       "      <td>2</td>\n",
       "      <td>1</td>\n",
       "      <td>0</td>\n",
       "    </tr>\n",
       "    <tr>\n",
       "      <th>9</th>\n",
       "      <td>1</td>\n",
       "      <td>2</td>\n",
       "      <td>1</td>\n",
       "      <td>1</td>\n",
       "      <td>0</td>\n",
       "      <td>30.0708</td>\n",
       "      <td>7</td>\n",
       "      <td>0</td>\n",
       "      <td>9</td>\n",
       "      <td>237736</td>\n",
       "      <td>10</td>\n",
       "      <td>2</td>\n",
       "      <td>35</td>\n",
       "      <td>2</td>\n",
       "      <td>3</td>\n",
       "      <td>0</td>\n",
       "    </tr>\n",
       "  </tbody>\n",
       "</table>\n",
       "</div>"
      ],
      "text/plain": [
       "   Survived  Pclass  Sex  SibSp  Parch     Fare  Cabin  Embarked  \\\n",
       "0         0       3    0      1      0   7.2500      7         2   \n",
       "1         1       1    1      1      0  71.2833      2         0   \n",
       "2         1       3    1      0      0   7.9250      7         2   \n",
       "3         1       1    1      1      0  53.1000      2         2   \n",
       "4         0       3    0      0      0   8.0500      7         2   \n",
       "5         0       3    0      0      0   8.4583      7         1   \n",
       "6         0       1    0      0      0  51.8625      4         2   \n",
       "7         0       3    0      3      1  21.0750      7         2   \n",
       "8         1       3    1      0      2  11.1333      7         2   \n",
       "9         1       2    1      1      0  30.0708      7         0   \n",
       "\n",
       "   Ticket_items  Ticket_number  Age_categorical  Family  Len_Name  Title  \\\n",
       "0             1          21171               20       2        23      1   \n",
       "1            10          17599               30       2        51      2   \n",
       "2            21        3101282               20       1        22      2   \n",
       "3             9         113803               30       2        44      2   \n",
       "4             9         373450               30       1        24      1   \n",
       "5             9         330877               20       1        16      1   \n",
       "6             9          17463               50       1        23      1   \n",
       "7             9         349909                0       5        30      0   \n",
       "8             9         347742               20       3        49      2   \n",
       "9             9         237736               10       2        35      2   \n",
       "\n",
       "   Categorical_Fare  Is_Alone  \n",
       "0                 1         0  \n",
       "1                 4         0  \n",
       "2                 2         1  \n",
       "3                 4         0  \n",
       "4                 2         1  \n",
       "5                 3         1  \n",
       "6                 4         1  \n",
       "7                 1         0  \n",
       "8                 1         0  \n",
       "9                 3         0  "
      ]
     },
     "execution_count": 5,
     "metadata": {},
     "output_type": "execute_result"
    }
   ],
   "source": [
    "def preprocess(df):\n",
    "    df = df.copy()\n",
    "    def ticket_items(x):\n",
    "        items = x.split(\" \")\n",
    "        if len(items) == 1:\n",
    "            return \"None\"\n",
    "        return \" \".join(items[0:-1])\n",
    "    def ticket_num(x):\n",
    "        return x.split(\" \")[-1]\n",
    "\n",
    "    def cabin(x):\n",
    "        return \" \".join(x.split(\" \"))[0:1]\n",
    "    def item(x):\n",
    "        return \" \".join(v.replace(\".\", \"\").replace(\"/\", \"\") for v in x.split(\" \"))[0:3]\n",
    "\n",
    "    def num(x):\n",
    "        return \" \".join(v.replace(\"LINE\", \"0\") for v in x.split(\" \"))\n",
    "\n",
    "    def age(x):\n",
    "        if x < 10:\n",
    "            return \"0\"\n",
    "        elif x < 20:\n",
    "            return \"10\"\n",
    "        elif x < 30:\n",
    "            return \"20\"\n",
    "        elif x < 40:\n",
    "            return \"30\"\n",
    "        elif x < 50:\n",
    "            return \"40\"\n",
    "        elif x < 60:\n",
    "            return \"50\"\n",
    "        elif x < 70:\n",
    "            return \"60\"\n",
    "        elif x < 80:\n",
    "            return \"70\"\n",
    "        elif x < 90:\n",
    "            return \"80\"\n",
    "        elif x < 100:\n",
    "            return \"90\"\n",
    "        else:\n",
    "            return \"100\"\n",
    "\n",
    "\n",
    "    def normalize_name(x):\n",
    "        return \" \".join(v.strip(\"./\"'()[]'\"\") for v in x.split(\" \"))\n",
    "\n",
    "    def name(x):\n",
    "        if any (title in x for title in [\"Mrs\", \"Miss\", \"Ms\", \"Mme\", \"Mile\"]):\n",
    "            return \"Mrs/Miss\"\n",
    "\n",
    "        elif \"Mr\" in x:\n",
    "            return \"Mr\"\n",
    "        elif \"Master\" in x:\n",
    "            return \"Master\"\n",
    "        else:\n",
    "            return \"others\"\n",
    "\n",
    "    def len_name(x):\n",
    "        return len(\" \".join(x.split(\" \")))\n",
    "\n",
    "    def is_alone(x):\n",
    "        if x < 2:\n",
    "            return \"1\"\n",
    "        else:\n",
    "            return \"0\"\n",
    "            \n",
    "            \n",
    "    df[\"Ticket_items\"] = df[\"Ticket\"].apply(ticket_items)\n",
    "    df[\"Ticket_number\"] = df[\"Ticket\"].apply(ticket_num)\n",
    "    df[\"Sex\"] = df[\"Sex\"].map({\"male\": 0, \"female\": 1})\n",
    "    df[\"Cabin\"] = df[\"Cabin\"].fillna(\"None\")\n",
    "    df[\"Cabin\"] = df[\"Cabin\"].apply(cabin)\n",
    "    df[\"Ticket_items\"] = df[\"Ticket_items\"].apply(item)\n",
    "    df[\"Age\"] = df[\"Age\"].fillna(df[\"Age\"].median())\n",
    "    df[\"Ticket_number\"] = df[\"Ticket_number\"].apply(num)\n",
    "    df[\"Ticket_number\"] = df[\"Ticket_number\"].astype(int)\n",
    "    df[\"Age_categorical\"] = df[\"Age\"].apply(age)\n",
    "    df[\"Age_categorical\"] = df[\"Age_categorical\"].astype(int)\n",
    "    df[\"Family\"] = (df[\"SibSp\"] + df[\"Parch\"] + 1)\n",
    "    df[\"Len_Name\"] = df[\"Name\"].apply(len_name)\n",
    "    df[\"Name\"] = df[\"Name\"].apply(normalize_name)\n",
    "    df[\"Title\"] = df[\"Name\"].apply(name)\n",
    "    df[\"Fare\"] = df[\"Fare\"].fillna(df[\"Fare\"].median())\n",
    "    df[\"Categorical_Fare\"] = pd.qcut(df[\"Fare\"] / df[\"Family\"], 4, labels = [\"Low\", \"Mid\", \"High\", \"VeryHigh\"])\n",
    "    df[\"Categorical_Fare\"] = df[\"Categorical_Fare\"].map({\"Low\": 1, \"Mid\": 2, \"High\": 3, \"VeryHigh\": 4}).astype(int)\n",
    "    df[\"Is_Alone\"] = df[\"Family\"].apply(is_alone).astype(int)\n",
    "    df = df.drop(\"Name\", axis = 1)\n",
    "    df = df.drop(\"Age\", axis = 1)\n",
    "    df = df.drop(\"Ticket\", axis = 1)\n",
    "\n",
    "    \n",
    "\n",
    "    cols = (\"Embarked\", \"Cabin\", \"Ticket_items\", \"Title\")\n",
    "    for c in cols:\n",
    "        lb = LabelEncoder()\n",
    "        lb.fit(df[c].values)\n",
    "        df[c] = lb.transform(list(df[c].values))\n",
    "        df[c] = df[c].astype(int)\n",
    "    \n",
    "    return df\n",
    "\n",
    "\n",
    "train = preprocess(train_df)\n",
    "train.head(10)"
   ]
  },
  {
   "cell_type": "code",
   "execution_count": 6,
   "id": "5095974a",
   "metadata": {
    "execution": {
     "iopub.execute_input": "2025-01-31T05:37:17.914826Z",
     "iopub.status.busy": "2025-01-31T05:37:17.914468Z",
     "iopub.status.idle": "2025-01-31T05:37:17.934361Z",
     "shell.execute_reply": "2025-01-31T05:37:17.933030Z"
    },
    "papermill": {
     "duration": 0.028866,
     "end_time": "2025-01-31T05:37:17.936375",
     "exception": false,
     "start_time": "2025-01-31T05:37:17.907509",
     "status": "completed"
    },
    "tags": []
   },
   "outputs": [
    {
     "name": "stdout",
     "output_type": "stream",
     "text": [
      "<class 'pandas.core.frame.DataFrame'>\n",
      "RangeIndex: 891 entries, 0 to 890\n",
      "Data columns (total 16 columns):\n",
      " #   Column            Non-Null Count  Dtype  \n",
      "---  ------            --------------  -----  \n",
      " 0   Survived          891 non-null    int64  \n",
      " 1   Pclass            891 non-null    int64  \n",
      " 2   Sex               891 non-null    int64  \n",
      " 3   SibSp             891 non-null    int64  \n",
      " 4   Parch             891 non-null    int64  \n",
      " 5   Fare              891 non-null    float64\n",
      " 6   Cabin             891 non-null    int64  \n",
      " 7   Embarked          891 non-null    int64  \n",
      " 8   Ticket_items      891 non-null    int64  \n",
      " 9   Ticket_number     891 non-null    int64  \n",
      " 10  Age_categorical   891 non-null    int64  \n",
      " 11  Family            891 non-null    int64  \n",
      " 12  Len_Name          891 non-null    int64  \n",
      " 13  Title             891 non-null    int64  \n",
      " 14  Categorical_Fare  891 non-null    int64  \n",
      " 15  Is_Alone          891 non-null    int64  \n",
      "dtypes: float64(1), int64(15)\n",
      "memory usage: 111.5 KB\n"
     ]
    }
   ],
   "source": [
    "train.info()"
   ]
  },
  {
   "cell_type": "code",
   "execution_count": 7,
   "id": "e2c1f45e",
   "metadata": {
    "execution": {
     "iopub.execute_input": "2025-01-31T05:37:17.949246Z",
     "iopub.status.busy": "2025-01-31T05:37:17.948808Z",
     "iopub.status.idle": "2025-01-31T05:37:21.658402Z",
     "shell.execute_reply": "2025-01-31T05:37:21.657173Z"
    },
    "papermill": {
     "duration": 3.717783,
     "end_time": "2025-01-31T05:37:21.660137",
     "exception": false,
     "start_time": "2025-01-31T05:37:17.942354",
     "status": "completed"
    },
    "tags": []
   },
   "outputs": [
    {
     "data": {
      "image/png": "[encoded data removed]",
      "text/plain": [
       "<Figure size 1000x1000 with 16 Axes>"
      ]
     },
     "metadata": {},
     "output_type": "display_data"
    }
   ],
   "source": [
    "train.hist(figsize = (10,10), color = \"b\", bins = 50, xlabelsize = 8, ylabelsize = 8);"
   ]
  },
  {
   "cell_type": "code",
   "execution_count": 8,
   "id": "9539d68a",
   "metadata": {
    "execution": {
     "iopub.execute_input": "2025-01-31T05:37:21.676160Z",
     "iopub.status.busy": "2025-01-31T05:37:21.675803Z",
     "iopub.status.idle": "2025-01-31T05:37:22.534230Z",
     "shell.execute_reply": "2025-01-31T05:37:22.533128Z"
    },
    "papermill": {
     "duration": 0.868155,
     "end_time": "2025-01-31T05:37:22.535813",
     "exception": false,
     "start_time": "2025-01-31T05:37:21.667658",
     "status": "completed"
    },
    "tags": []
   },
   "outputs": [
    {
     "name": "stdout",
     "output_type": "stream",
     "text": [
      "Index(['Survived', 'Pclass', 'Sex', 'Fare', 'Cabin', 'Len_Name', 'Title',\n",
      "       'Categorical_Fare', 'Is_Alone'],\n",
      "      dtype='object')\n"
     ]
    },
    {
     "data": {
      "text/plain": [
       "<Axes: >"
      ]
     },
     "execution_count": 8,
     "metadata": {},
     "output_type": "execute_result"
    },
    {
     "data": {
      "image/png": "[encoded data removed]",
      "text/plain": [
       "<Figure size 1000x500 with 2 Axes>"
      ]
     },
     "metadata": {},
     "output_type": "display_data"
    }
   ],
   "source": [
    "num_df = train.select_dtypes([\"float64\", \"int64\"])\n",
    "corrmat = num_df.corr()\n",
    "corr_cols = corrmat.index[abs(corrmat[\"Survived\"])>=0.2]\n",
    "print(train[corr_cols].columns)\n",
    "\n",
    "plt.figure(figsize = (10,5))\n",
    "sns.heatmap(num_df[corr_cols].corr(), annot = True, cmap = \"RdYlGn\")"
   ]
  },
  {
   "cell_type": "code",
   "execution_count": 9,
   "id": "219f9685",
   "metadata": {
    "execution": {
     "iopub.execute_input": "2025-01-31T05:37:22.555002Z",
     "iopub.status.busy": "2025-01-31T05:37:22.554582Z",
     "iopub.status.idle": "2025-01-31T05:37:22.628367Z",
     "shell.execute_reply": "2025-01-31T05:37:22.627309Z"
    },
    "papermill": {
     "duration": 0.08531,
     "end_time": "2025-01-31T05:37:22.630091",
     "exception": false,
     "start_time": "2025-01-31T05:37:22.544781",
     "status": "completed"
    },
    "tags": []
   },
   "outputs": [
    {
     "data": {
      "text/html": [
       "<table class=\"simpletable\">\n",
       "<caption>OLS Regression Results</caption>\n",
       "<tr>\n",
       "  <th>Dep. Variable:</th>        <td>Survived</td>     <th>  R-squared:         </th> <td>   0.422</td>\n",
       "</tr>\n",
       "<tr>\n",
       "  <th>Model:</th>                   <td>OLS</td>       <th>  Adj. R-squared:    </th> <td>   0.413</td>\n",
       "</tr>\n",
       "<tr>\n",
       "  <th>Method:</th>             <td>Least Squares</td>  <th>  F-statistic:       </th> <td>   45.66</td>\n",
       "</tr>\n",
       "<tr>\n",
       "  <th>Date:</th>             <td>Fri, 31 Jan 2025</td> <th>  Prob (F-statistic):</th> <td>3.43e-94</td>\n",
       "</tr>\n",
       "<tr>\n",
       "  <th>Time:</th>                 <td>05:37:22</td>     <th>  Log-Likelihood:    </th> <td> -377.84</td>\n",
       "</tr>\n",
       "<tr>\n",
       "  <th>No. Observations:</th>      <td>   891</td>      <th>  AIC:               </th> <td>   785.7</td>\n",
       "</tr>\n",
       "<tr>\n",
       "  <th>Df Residuals:</th>          <td>   876</td>      <th>  BIC:               </th> <td>   857.6</td>\n",
       "</tr>\n",
       "<tr>\n",
       "  <th>Df Model:</th>              <td>    14</td>      <th>                     </th>     <td> </td>   \n",
       "</tr>\n",
       "<tr>\n",
       "  <th>Covariance Type:</th>      <td>nonrobust</td>    <th>                     </th>     <td> </td>   \n",
       "</tr>\n",
       "</table>\n",
       "<table class=\"simpletable\">\n",
       "<tr>\n",
       "          <td></td>            <th>coef</th>     <th>std err</th>      <th>t</th>      <th>P>|t|</th>  <th>[0.025</th>    <th>0.975]</th>  \n",
       "</tr>\n",
       "<tr>\n",
       "  <th>const</th>            <td>    0.6261</td> <td>    0.104</td> <td>    6.027</td> <td> 0.000</td> <td>    0.422</td> <td>    0.830</td>\n",
       "</tr>\n",
       "<tr>\n",
       "  <th>Pclass</th>           <td>   -0.1164</td> <td>    0.032</td> <td>   -3.685</td> <td> 0.000</td> <td>   -0.178</td> <td>   -0.054</td>\n",
       "</tr>\n",
       "<tr>\n",
       "  <th>Sex</th>              <td>    0.6574</td> <td>    0.050</td> <td>   13.085</td> <td> 0.000</td> <td>    0.559</td> <td>    0.756</td>\n",
       "</tr>\n",
       "<tr>\n",
       "  <th>SibSp</th>            <td>   -0.2367</td> <td>    0.038</td> <td>   -6.288</td> <td> 0.000</td> <td>   -0.311</td> <td>   -0.163</td>\n",
       "</tr>\n",
       "<tr>\n",
       "  <th>Parch</th>            <td>   -0.2122</td> <td>    0.039</td> <td>   -5.392</td> <td> 0.000</td> <td>   -0.289</td> <td>   -0.135</td>\n",
       "</tr>\n",
       "<tr>\n",
       "  <th>Fare</th>             <td> 4.446e-05</td> <td>    0.000</td> <td>    0.130</td> <td> 0.896</td> <td>   -0.001</td> <td>    0.001</td>\n",
       "</tr>\n",
       "<tr>\n",
       "  <th>Cabin</th>            <td>   -0.0117</td> <td>    0.009</td> <td>   -1.254</td> <td> 0.210</td> <td>   -0.030</td> <td>    0.007</td>\n",
       "</tr>\n",
       "<tr>\n",
       "  <th>Embarked</th>         <td>   -0.0399</td> <td>    0.017</td> <td>   -2.332</td> <td> 0.020</td> <td>   -0.073</td> <td>   -0.006</td>\n",
       "</tr>\n",
       "<tr>\n",
       "  <th>Ticket_items</th>     <td>   -0.0031</td> <td>    0.004</td> <td>   -0.806</td> <td> 0.420</td> <td>   -0.011</td> <td>    0.005</td>\n",
       "</tr>\n",
       "<tr>\n",
       "  <th>Ticket_number</th>    <td> 3.405e-08</td> <td>  2.3e-08</td> <td>    1.480</td> <td> 0.139</td> <td>-1.11e-08</td> <td> 7.92e-08</td>\n",
       "</tr>\n",
       "<tr>\n",
       "  <th>Age_categorical</th>  <td>   -0.0038</td> <td>    0.001</td> <td>   -3.590</td> <td> 0.000</td> <td>   -0.006</td> <td>   -0.002</td>\n",
       "</tr>\n",
       "<tr>\n",
       "  <th>Family</th>           <td>    0.1772</td> <td>    0.033</td> <td>    5.429</td> <td> 0.000</td> <td>    0.113</td> <td>    0.241</td>\n",
       "</tr>\n",
       "<tr>\n",
       "  <th>Len_Name</th>         <td>    0.0035</td> <td>    0.002</td> <td>    2.166</td> <td> 0.031</td> <td>    0.000</td> <td>    0.007</td>\n",
       "</tr>\n",
       "<tr>\n",
       "  <th>Title</th>            <td>   -0.1747</td> <td>    0.037</td> <td>   -4.677</td> <td> 0.000</td> <td>   -0.248</td> <td>   -0.101</td>\n",
       "</tr>\n",
       "<tr>\n",
       "  <th>Categorical_Fare</th> <td>    0.0348</td> <td>    0.021</td> <td>    1.681</td> <td> 0.093</td> <td>   -0.006</td> <td>    0.075</td>\n",
       "</tr>\n",
       "<tr>\n",
       "  <th>Is_Alone</th>         <td>   -0.0713</td> <td>    0.039</td> <td>   -1.821</td> <td> 0.069</td> <td>   -0.148</td> <td>    0.006</td>\n",
       "</tr>\n",
       "</table>\n",
       "<table class=\"simpletable\">\n",
       "<tr>\n",
       "  <th>Omnibus:</th>       <td>36.013</td> <th>  Durbin-Watson:     </th> <td>   1.951</td>\n",
       "</tr>\n",
       "<tr>\n",
       "  <th>Prob(Omnibus):</th> <td> 0.000</td> <th>  Jarque-Bera (JB):  </th> <td>  39.345</td>\n",
       "</tr>\n",
       "<tr>\n",
       "  <th>Skew:</th>          <td> 0.506</td> <th>  Prob(JB):          </th> <td>2.86e-09</td>\n",
       "</tr>\n",
       "<tr>\n",
       "  <th>Kurtosis:</th>      <td> 3.186</td> <th>  Cond. No.          </th> <td>1.81e+21</td>\n",
       "</tr>\n",
       "</table><br/><br/>Notes:<br/>[1] Standard Errors assume that the covariance matrix of the errors is correctly specified.<br/>[2] The smallest eigenvalue is 1.42e-28. This might indicate that there are<br/>strong multicollinearity problems or that the design matrix is singular."
      ],
      "text/latex": [
       "\\begin{center}\n",
       "\\begin{tabular}{lclc}\n",
       "\\toprule\n",
       "\\textbf{Dep. Variable:}    &     Survived     & \\textbf{  R-squared:         } &     0.422   \\\\\n",
       "\\textbf{Model:}            &       OLS        & \\textbf{  Adj. R-squared:    } &     0.413   \\\\\n",
       "\\textbf{Method:}           &  Least Squares   & \\textbf{  F-statistic:       } &     45.66   \\\\\n",
       "\\textbf{Date:}             & Fri, 31 Jan 2025 & \\textbf{  Prob (F-statistic):} &  3.43e-94   \\\\\n",
       "\\textbf{Time:}             &     05:37:22     & \\textbf{  Log-Likelihood:    } &   -377.84   \\\\\n",
       "\\textbf{No. Observations:} &         891      & \\textbf{  AIC:               } &     785.7   \\\\\n",
       "\\textbf{Df Residuals:}     &         876      & \\textbf{  BIC:               } &     857.6   \\\\\n",
       "\\textbf{Df Model:}         &          14      & \\textbf{                     } &             \\\\\n",
       "\\textbf{Covariance Type:}  &    nonrobust     & \\textbf{                     } &             \\\\\n",
       "\\bottomrule\n",
       "\\end{tabular}\n",
       "\\begin{tabular}{lcccccc}\n",
       "                           & \\textbf{coef} & \\textbf{std err} & \\textbf{t} & \\textbf{P$> |$t$|$} & \\textbf{[0.025} & \\textbf{0.975]}  \\\\\n",
       "\\midrule\n",
       "\\textbf{const}             &       0.6261  &        0.104     &     6.027  &         0.000        &        0.422    &        0.830     \\\\\n",
       "\\textbf{Pclass}            &      -0.1164  &        0.032     &    -3.685  &         0.000        &       -0.178    &       -0.054     \\\\\n",
       "\\textbf{Sex}               &       0.6574  &        0.050     &    13.085  &         0.000        &        0.559    &        0.756     \\\\\n",
       "\\textbf{SibSp}             &      -0.2367  &        0.038     &    -6.288  &         0.000        &       -0.311    &       -0.163     \\\\\n",
       "\\textbf{Parch}             &      -0.2122  &        0.039     &    -5.392  &         0.000        &       -0.289    &       -0.135     \\\\\n",
       "\\textbf{Fare}              &    4.446e-05  &        0.000     &     0.130  &         0.896        &       -0.001    &        0.001     \\\\\n",
       "\\textbf{Cabin}             &      -0.0117  &        0.009     &    -1.254  &         0.210        &       -0.030    &        0.007     \\\\\n",
       "\\textbf{Embarked}          &      -0.0399  &        0.017     &    -2.332  &         0.020        &       -0.073    &       -0.006     \\\\\n",
       "\\textbf{Ticket\\_items}     &      -0.0031  &        0.004     &    -0.806  &         0.420        &       -0.011    &        0.005     \\\\\n",
       "\\textbf{Ticket\\_number}    &    3.405e-08  &      2.3e-08     &     1.480  &         0.139        &    -1.11e-08    &     7.92e-08     \\\\\n",
       "\\textbf{Age\\_categorical}  &      -0.0038  &        0.001     &    -3.590  &         0.000        &       -0.006    &       -0.002     \\\\\n",
       "\\textbf{Family}            &       0.1772  &        0.033     &     5.429  &         0.000        &        0.113    &        0.241     \\\\\n",
       "\\textbf{Len\\_Name}         &       0.0035  &        0.002     &     2.166  &         0.031        &        0.000    &        0.007     \\\\\n",
       "\\textbf{Title}             &      -0.1747  &        0.037     &    -4.677  &         0.000        &       -0.248    &       -0.101     \\\\\n",
       "\\textbf{Categorical\\_Fare} &       0.0348  &        0.021     &     1.681  &         0.093        &       -0.006    &        0.075     \\\\\n",
       "\\textbf{Is\\_Alone}         &      -0.0713  &        0.039     &    -1.821  &         0.069        &       -0.148    &        0.006     \\\\\n",
       "\\bottomrule\n",
       "\\end{tabular}\n",
       "\\begin{tabular}{lclc}\n",
       "\\textbf{Omnibus:}       & 36.013 & \\textbf{  Durbin-Watson:     } &    1.951  \\\\\n",
       "\\textbf{Prob(Omnibus):} &  0.000 & \\textbf{  Jarque-Bera (JB):  } &   39.345  \\\\\n",
       "\\textbf{Skew:}          &  0.506 & \\textbf{  Prob(JB):          } & 2.86e-09  \\\\\n",
       "\\textbf{Kurtosis:}      &  3.186 & \\textbf{  Cond. No.          } & 1.81e+21  \\\\\n",
       "\\bottomrule\n",
       "\\end{tabular}\n",
       "%\\caption{OLS Regression Results}\n",
       "\\end{center}\n",
       "\n",
       "Notes: \\newline\n",
       " [1] Standard Errors assume that the covariance matrix of the errors is correctly specified. \\newline\n",
       " [2] The smallest eigenvalue is 1.42e-28. This might indicate that there are \\newline\n",
       " strong multicollinearity problems or that the design matrix is singular."
      ],
      "text/plain": [
       "<class 'statsmodels.iolib.summary.Summary'>\n",
       "\"\"\"\n",
       "                            OLS Regression Results                            \n",
       "==============================================================================\n",
       "Dep. Variable:               Survived   R-squared:                       0.422\n",
       "Model:                            OLS   Adj. R-squared:                  0.413\n",
       "Method:                 Least Squares   F-statistic:                     45.66\n",
       "Date:                Fri, 31 Jan 2025   Prob (F-statistic):           3.43e-94\n",
       "Time:                        05:37:22   Log-Likelihood:                -377.84\n",
       "No. Observations:                 891   AIC:                             785.7\n",
       "Df Residuals:                     876   BIC:                             857.6\n",
       "Df Model:                          14                                         \n",
       "Covariance Type:            nonrobust                                         \n",
       "====================================================================================\n",
       "                       coef    std err          t      P>|t|      [0.025      0.975]\n",
       "------------------------------------------------------------------------------------\n",
       "const                0.6261      0.104      6.027      0.000       0.422       0.830\n",
       "Pclass              -0.1164      0.032     -3.685      0.000      -0.178      -0.054\n",
       "Sex                  0.6574      0.050     13.085      0.000       0.559       0.756\n",
       "SibSp               -0.2367      0.038     -6.288      0.000      -0.311      -0.163\n",
       "Parch               -0.2122      0.039     -5.392      0.000      -0.289      -0.135\n",
       "Fare              4.446e-05      0.000      0.130      0.896      -0.001       0.001\n",
       "Cabin               -0.0117      0.009     -1.254      0.210      -0.030       0.007\n",
       "Embarked            -0.0399      0.017     -2.332      0.020      -0.073      -0.006\n",
       "Ticket_items        -0.0031      0.004     -0.806      0.420      -0.011       0.005\n",
       "Ticket_number     3.405e-08    2.3e-08      1.480      0.139   -1.11e-08    7.92e-08\n",
       "Age_categorical     -0.0038      0.001     -3.590      0.000      -0.006      -0.002\n",
       "Family               0.1772      0.033      5.429      0.000       0.113       0.241\n",
       "Len_Name             0.0035      0.002      2.166      0.031       0.000       0.007\n",
       "Title               -0.1747      0.037     -4.677      0.000      -0.248      -0.101\n",
       "Categorical_Fare     0.0348      0.021      1.681      0.093      -0.006       0.075\n",
       "Is_Alone            -0.0713      0.039     -1.821      0.069      -0.148       0.006\n",
       "==============================================================================\n",
       "Omnibus:                       36.013   Durbin-Watson:                   1.951\n",
       "Prob(Omnibus):                  0.000   Jarque-Bera (JB):               39.345\n",
       "Skew:                           0.506   Prob(JB):                     2.86e-09\n",
       "Kurtosis:                       3.186   Cond. No.                     1.81e+21\n",
       "==============================================================================\n",
       "\n",
       "Notes:\n",
       "[1] Standard Errors assume that the covariance matrix of the errors is correctly specified.\n",
       "[2] The smallest eigenvalue is 1.42e-28. This might indicate that there are\n",
       "strong multicollinearity problems or that the design matrix is singular.\n",
       "\"\"\""
      ]
     },
     "execution_count": 9,
     "metadata": {},
     "output_type": "execute_result"
    }
   ],
   "source": [
    "target = train[\"Survived\"]\n",
    "selected = train.select_dtypes([\"float64\", \"int64\"])\n",
    "selected = selected.drop(\"Survived\", axis = 1)\n",
    "x_data = sm.add_constant(selected, has_constant = \"add\")\n",
    "ols = sm.OLS(target, x_data)\n",
    "result = ols.fit()\n",
    "result.summary()"
   ]
  },
  {
   "cell_type": "code",
   "execution_count": 10,
   "id": "c028699a",
   "metadata": {
    "execution": {
     "iopub.execute_input": "2025-01-31T05:37:22.649741Z",
     "iopub.status.busy": "2025-01-31T05:37:22.649369Z",
     "iopub.status.idle": "2025-01-31T05:37:23.600695Z",
     "shell.execute_reply": "2025-01-31T05:37:23.599477Z"
    },
    "papermill": {
     "duration": 0.965762,
     "end_time": "2025-01-31T05:37:23.605238",
     "exception": false,
     "start_time": "2025-01-31T05:37:22.639476",
     "status": "completed"
    },
    "tags": []
   },
   "outputs": [
    {
     "data": {
      "text/plain": [
       "<Axes: >"
      ]
     },
     "execution_count": 10,
     "metadata": {},
     "output_type": "execute_result"
    },
    {
     "data": {
      "image/png": "[encoded data removed]",
      "text/plain": [
       "<Figure size 1000x500 with 2 Axes>"
      ]
     },
     "metadata": {},
     "output_type": "display_data"
    }
   ],
   "source": [
    "corrmat = selected.corr()\n",
    "\n",
    "plt.figure(figsize = (10,5))\n",
    "sns.heatmap(corrmat, annot = True, cmap = \"RdYlGn\")"
   ]
  },
  {
   "cell_type": "code",
   "execution_count": 11,
   "id": "39f94ef8",
   "metadata": {
    "execution": {
     "iopub.execute_input": "2025-01-31T05:37:23.634717Z",
     "iopub.status.busy": "2025-01-31T05:37:23.634331Z",
     "iopub.status.idle": "2025-01-31T05:37:23.643949Z",
     "shell.execute_reply": "2025-01-31T05:37:23.642533Z"
    },
    "papermill": {
     "duration": 0.026298,
     "end_time": "2025-01-31T05:37:23.645810",
     "exception": false,
     "start_time": "2025-01-31T05:37:23.619512",
     "status": "completed"
    },
    "tags": []
   },
   "outputs": [
    {
     "name": "stdout",
     "output_type": "stream",
     "text": [
      "train size is 623, test size is 268\n"
     ]
    }
   ],
   "source": [
    "train_dt, test_dt = train_test_split(\n",
    "    train, test_size = 0.3, random_state = 1234\n",
    ")\n",
    "\n",
    "print(\"train size is {}, test size is {}\".format(len(train_dt), len(test_dt)))"
   ]
  },
  {
   "cell_type": "code",
   "execution_count": 12,
   "id": "51f70bf8",
   "metadata": {
    "execution": {
     "iopub.execute_input": "2025-01-31T05:37:23.673325Z",
     "iopub.status.busy": "2025-01-31T05:37:23.672936Z",
     "iopub.status.idle": "2025-01-31T05:37:23.756743Z",
     "shell.execute_reply": "2025-01-31T05:37:23.755543Z"
    },
    "papermill": {
     "duration": 0.099857,
     "end_time": "2025-01-31T05:37:23.758816",
     "exception": false,
     "start_time": "2025-01-31T05:37:23.658959",
     "status": "completed"
    },
    "tags": []
   },
   "outputs": [
    {
     "data": {
      "text/plain": [
       "[tensorflow_decision_forests.keras.RandomForestModel,\n",
       " tensorflow_decision_forests.keras.GradientBoostedTreesModel,\n",
       " tensorflow_decision_forests.keras.CartModel,\n",
       " tensorflow_decision_forests.keras.DistributedGradientBoostedTreesModel]"
      ]
     },
     "execution_count": 12,
     "metadata": {},
     "output_type": "execute_result"
    }
   ],
   "source": [
    "label = \"Survived\"\n",
    "train_ds = tfdf.keras.pd_dataframe_to_tf_dataset(train_dt, label = label,\n",
    "                                                task = tfdf.keras.Task.REGRESSION)\n",
    "\n",
    "test_ds = tfdf.keras.pd_dataframe_to_tf_dataset(test_dt, label = label,\n",
    "                                               task = tfdf.keras.Task.REGRESSION)\n",
    "\n",
    "tfdf.keras.get_all_models()"
   ]
  },
  {
   "cell_type": "code",
   "execution_count": 13,
   "id": "6727289b",
   "metadata": {
    "execution": {
     "iopub.execute_input": "2025-01-31T05:37:23.787380Z",
     "iopub.status.busy": "2025-01-31T05:37:23.786981Z",
     "iopub.status.idle": "2025-01-31T05:39:21.185399Z",
     "shell.execute_reply": "2025-01-31T05:39:21.184277Z"
    },
    "papermill": {
     "duration": 117.414619,
     "end_time": "2025-01-31T05:39:21.187360",
     "exception": false,
     "start_time": "2025-01-31T05:37:23.772741",
     "status": "completed"
    },
    "tags": []
   },
   "outputs": [
    {
     "name": "stderr",
     "output_type": "stream",
     "text": [
      "[I 2025-01-31 05:37:24,054] A new study created in memory with name: no-name-97f3f35a-8708-4cb3-bc26-8793c8e2511b\n"
     ]
    },
    {
     "name": "stdout",
     "output_type": "stream",
     "text": [
      "Use /tmp/tmpy1lxe4pq as temporary training directory\n"
     ]
    },
    {
     "name": "stderr",
     "output_type": "stream",
     "text": [
      "[I 2025-01-31 05:37:31,258] Trial 0 finished with value: 0.0 and parameters: {'num_trees': 1000, 'max_depth': 20, 'min_examples': 14}. Best is trial 0 with value: 0.0.\n"
     ]
    },
    {
     "name": "stdout",
     "output_type": "stream",
     "text": [
      "Use /tmp/tmpgcwwr9sm as temporary training directory\n"
     ]
    },
    {
     "name": "stderr",
     "output_type": "stream",
     "text": [
      "[I 2025-01-31 05:37:32,456] Trial 1 finished with value: 0.0 and parameters: {'num_trees': 750, 'max_depth': 15, 'min_examples': 12}. Best is trial 0 with value: 0.0.\n"
     ]
    },
    {
     "name": "stdout",
     "output_type": "stream",
     "text": [
      "Use /tmp/tmp3wkcnh1_ as temporary training directory\n"
     ]
    },
    {
     "name": "stderr",
     "output_type": "stream",
     "text": [
      "[I 2025-01-31 05:37:33,232] Trial 2 finished with value: 0.0 and parameters: {'num_trees': 150, 'max_depth': 20, 'min_examples': 4}. Best is trial 0 with value: 0.0.\n"
     ]
    },
    {
     "name": "stdout",
     "output_type": "stream",
     "text": [
      "Use /tmp/tmp1tx5i_7e as temporary training directory\n"
     ]
    },
    {
     "name": "stderr",
     "output_type": "stream",
     "text": [
      "[I 2025-01-31 05:37:34,563] Trial 3 finished with value: 0.0 and parameters: {'num_trees': 850, 'max_depth': 15, 'min_examples': 10}. Best is trial 0 with value: 0.0.\n"
     ]
    },
    {
     "name": "stdout",
     "output_type": "stream",
     "text": [
      "Use /tmp/tmpz8chgho9 as temporary training directory\n"
     ]
    },
    {
     "name": "stderr",
     "output_type": "stream",
     "text": [
      "[I 2025-01-31 05:37:35,458] Trial 4 finished with value: 0.0 and parameters: {'num_trees': 850, 'max_depth': 5, 'min_examples': 20}. Best is trial 0 with value: 0.0.\n"
     ]
    },
    {
     "name": "stdout",
     "output_type": "stream",
     "text": [
      "Use /tmp/tmp1c9ku6qh as temporary training directory\n"
     ]
    },
    {
     "name": "stderr",
     "output_type": "stream",
     "text": [
      "[I 2025-01-31 05:37:36,765] Trial 5 finished with value: 0.0 and parameters: {'num_trees': 750, 'max_depth': 10, 'min_examples': 6}. Best is trial 0 with value: 0.0.\n"
     ]
    },
    {
     "name": "stdout",
     "output_type": "stream",
     "text": [
      "Use /tmp/tmp086_3qfn as temporary training directory\n"
     ]
    },
    {
     "name": "stderr",
     "output_type": "stream",
     "text": [
      "[I 2025-01-31 05:37:37,643] Trial 6 finished with value: 0.0 and parameters: {'num_trees': 350, 'max_depth': 15, 'min_examples': 12}. Best is trial 0 with value: 0.0.\n"
     ]
    },
    {
     "name": "stdout",
     "output_type": "stream",
     "text": [
      "Use /tmp/tmp2eoopa53 as temporary training directory\n"
     ]
    },
    {
     "name": "stderr",
     "output_type": "stream",
     "text": [
      "[I 2025-01-31 05:37:38,462] Trial 7 finished with value: 0.0 and parameters: {'num_trees': 650, 'max_depth': 5, 'min_examples': 12}. Best is trial 0 with value: 0.0.\n"
     ]
    },
    {
     "name": "stdout",
     "output_type": "stream",
     "text": [
      "Use /tmp/tmpf4d59o34 as temporary training directory\n"
     ]
    },
    {
     "name": "stderr",
     "output_type": "stream",
     "text": [
      "[I 2025-01-31 05:37:39,149] Trial 8 finished with value: 0.0 and parameters: {'num_trees': 250, 'max_depth': 5, 'min_examples': 6}. Best is trial 0 with value: 0.0.\n"
     ]
    },
    {
     "name": "stdout",
     "output_type": "stream",
     "text": [
      "Use /tmp/tmpd1scty06 as temporary training directory\n"
     ]
    },
    {
     "name": "stderr",
     "output_type": "stream",
     "text": [
      "[I 2025-01-31 05:37:40,193] Trial 9 finished with value: 0.0 and parameters: {'num_trees': 550, 'max_depth': 20, 'min_examples': 12}. Best is trial 0 with value: 0.0.\n"
     ]
    },
    {
     "name": "stdout",
     "output_type": "stream",
     "text": [
      "Use /tmp/tmplm2o5zkk as temporary training directory\n"
     ]
    },
    {
     "name": "stderr",
     "output_type": "stream",
     "text": [
      "[I 2025-01-31 05:37:41,467] Trial 10 finished with value: 0.0 and parameters: {'num_trees': 1000, 'max_depth': 20, 'min_examples': 18}. Best is trial 0 with value: 0.0.\n"
     ]
    },
    {
     "name": "stdout",
     "output_type": "stream",
     "text": [
      "Use /tmp/tmphaxon2g8 as temporary training directory\n"
     ]
    },
    {
     "name": "stderr",
     "output_type": "stream",
     "text": [
      "[I 2025-01-31 05:37:42,797] Trial 11 finished with value: 0.0 and parameters: {'num_trees': 1000, 'max_depth': 15, 'min_examples': 16}. Best is trial 0 with value: 0.0.\n"
     ]
    },
    {
     "name": "stdout",
     "output_type": "stream",
     "text": [
      "Use /tmp/tmpt0uozk7g as temporary training directory\n"
     ]
    },
    {
     "name": "stderr",
     "output_type": "stream",
     "text": [
      "[I 2025-01-31 05:37:44,013] Trial 12 finished with value: 0.0 and parameters: {'num_trees': 850, 'max_depth': 10, 'min_examples': 16}. Best is trial 0 with value: 0.0.\n"
     ]
    },
    {
     "name": "stdout",
     "output_type": "stream",
     "text": [
      "Use /tmp/tmpxtpk6qmt as temporary training directory\n"
     ]
    },
    {
     "name": "stderr",
     "output_type": "stream",
     "text": [
      "[I 2025-01-31 05:37:45,180] Trial 13 finished with value: 0.0 and parameters: {'num_trees': 450, 'max_depth': 20, 'min_examples': 8}. Best is trial 0 with value: 0.0.\n"
     ]
    },
    {
     "name": "stdout",
     "output_type": "stream",
     "text": [
      "Use /tmp/tmpwsp0ngv4 as temporary training directory\n"
     ]
    },
    {
     "name": "stderr",
     "output_type": "stream",
     "text": [
      "[I 2025-01-31 05:37:46,312] Trial 14 finished with value: 0.0 and parameters: {'num_trees': 700, 'max_depth': 15, 'min_examples': 14}. Best is trial 0 with value: 0.0.\n"
     ]
    },
    {
     "name": "stdout",
     "output_type": "stream",
     "text": [
      "Use /tmp/tmptw7a9763 as temporary training directory\n"
     ]
    },
    {
     "name": "stderr",
     "output_type": "stream",
     "text": [
      "[I 2025-01-31 05:37:48,067] Trial 15 finished with value: 0.0 and parameters: {'num_trees': 1000, 'max_depth': 10, 'min_examples': 2}. Best is trial 0 with value: 0.0.\n"
     ]
    },
    {
     "name": "stdout",
     "output_type": "stream",
     "text": [
      "Use /tmp/tmpriczqtra as temporary training directory\n"
     ]
    },
    {
     "name": "stderr",
     "output_type": "stream",
     "text": [
      "[I 2025-01-31 05:37:49,757] Trial 16 finished with value: 0.0 and parameters: {'num_trees': 850, 'max_depth': 20, 'min_examples': 16}. Best is trial 0 with value: 0.0.\n"
     ]
    },
    {
     "name": "stdout",
     "output_type": "stream",
     "text": [
      "Use /tmp/tmppuryo47e as temporary training directory\n"
     ]
    },
    {
     "name": "stderr",
     "output_type": "stream",
     "text": [
      "[I 2025-01-31 05:37:50,891] Trial 17 finished with value: 0.0 and parameters: {'num_trees': 550, 'max_depth': 15, 'min_examples': 10}. Best is trial 0 with value: 0.0.\n"
     ]
    },
    {
     "name": "stdout",
     "output_type": "stream",
     "text": [
      "Use /tmp/tmpclux1sr2 as temporary training directory\n"
     ]
    },
    {
     "name": "stderr",
     "output_type": "stream",
     "text": [
      "[I 2025-01-31 05:37:52,080] Trial 18 finished with value: 0.0 and parameters: {'num_trees': 750, 'max_depth': 20, 'min_examples': 14}. Best is trial 0 with value: 0.0.\n"
     ]
    },
    {
     "name": "stdout",
     "output_type": "stream",
     "text": [
      "Use /tmp/tmpmqd56e8u as temporary training directory\n"
     ]
    },
    {
     "name": "stderr",
     "output_type": "stream",
     "text": [
      "[I 2025-01-31 05:37:53,253] Trial 19 finished with value: 0.0 and parameters: {'num_trees': 900, 'max_depth': 15, 'min_examples': 20}. Best is trial 0 with value: 0.0.\n"
     ]
    },
    {
     "name": "stdout",
     "output_type": "stream",
     "text": [
      "Use /tmp/tmpljovrij8 as temporary training directory\n"
     ]
    },
    {
     "name": "stderr",
     "output_type": "stream",
     "text": [
      "[I 2025-01-31 05:37:54,399] Trial 20 finished with value: 0.0 and parameters: {'num_trees': 650, 'max_depth': 10, 'min_examples': 8}. Best is trial 0 with value: 0.0.\n"
     ]
    },
    {
     "name": "stdout",
     "output_type": "stream",
     "text": [
      "Use /tmp/tmp674pv746 as temporary training directory\n"
     ]
    },
    {
     "name": "stderr",
     "output_type": "stream",
     "text": [
      "[I 2025-01-31 05:37:55,176] Trial 21 finished with value: 0.0 and parameters: {'num_trees': 150, 'max_depth': 20, 'min_examples': 6}. Best is trial 0 with value: 0.0.\n"
     ]
    },
    {
     "name": "stdout",
     "output_type": "stream",
     "text": [
      "Use /tmp/tmpeor_rkwl as temporary training directory\n"
     ]
    },
    {
     "name": "stderr",
     "output_type": "stream",
     "text": [
      "[I 2025-01-31 05:37:55,935] Trial 22 finished with value: 0.0 and parameters: {'num_trees': 100, 'max_depth': 20, 'min_examples': 2}. Best is trial 0 with value: 0.0.\n"
     ]
    },
    {
     "name": "stdout",
     "output_type": "stream",
     "text": [
      "Use /tmp/tmp1k4rxdn6 as temporary training directory\n"
     ]
    },
    {
     "name": "stderr",
     "output_type": "stream",
     "text": [
      "[I 2025-01-31 05:37:56,833] Trial 23 finished with value: 0.0 and parameters: {'num_trees': 400, 'max_depth': 20, 'min_examples': 14}. Best is trial 0 with value: 0.0.\n"
     ]
    },
    {
     "name": "stdout",
     "output_type": "stream",
     "text": [
      "Use /tmp/tmpblawdjhk as temporary training directory\n"
     ]
    },
    {
     "name": "stderr",
     "output_type": "stream",
     "text": [
      "[I 2025-01-31 05:37:57,515] Trial 24 finished with value: 0.0 and parameters: {'num_trees': 50, 'max_depth': 15, 'min_examples': 4}. Best is trial 0 with value: 0.0.\n"
     ]
    },
    {
     "name": "stdout",
     "output_type": "stream",
     "text": [
      "Use /tmp/tmpvfro0l00 as temporary training directory\n"
     ]
    },
    {
     "name": "stderr",
     "output_type": "stream",
     "text": [
      "[I 2025-01-31 05:37:58,391] Trial 25 finished with value: 0.0 and parameters: {'num_trees': 300, 'max_depth': 20, 'min_examples': 8}. Best is trial 0 with value: 0.0.\n"
     ]
    },
    {
     "name": "stdout",
     "output_type": "stream",
     "text": [
      "Use /tmp/tmp211_h2xm as temporary training directory\n"
     ]
    },
    {
     "name": "stderr",
     "output_type": "stream",
     "text": [
      "[I 2025-01-31 05:37:59,186] Trial 26 finished with value: 0.0 and parameters: {'num_trees': 200, 'max_depth': 15, 'min_examples': 10}. Best is trial 0 with value: 0.0.\n"
     ]
    },
    {
     "name": "stdout",
     "output_type": "stream",
     "text": [
      "Use /tmp/tmphr6g_rhj as temporary training directory\n"
     ]
    },
    {
     "name": "stderr",
     "output_type": "stream",
     "text": [
      "[I 2025-01-31 05:38:00,166] Trial 27 finished with value: 0.0 and parameters: {'num_trees': 500, 'max_depth': 20, 'min_examples': 14}. Best is trial 0 with value: 0.0.\n"
     ]
    },
    {
     "name": "stdout",
     "output_type": "stream",
     "text": [
      "Use /tmp/tmplw188s7k as temporary training directory\n"
     ]
    },
    {
     "name": "stderr",
     "output_type": "stream",
     "text": [
      "[I 2025-01-31 05:38:01,165] Trial 28 finished with value: 0.0 and parameters: {'num_trees': 600, 'max_depth': 20, 'min_examples': 18}. Best is trial 0 with value: 0.0.\n"
     ]
    },
    {
     "name": "stdout",
     "output_type": "stream",
     "text": [
      "Use /tmp/tmpucwywk1a as temporary training directory\n"
     ]
    },
    {
     "name": "stderr",
     "output_type": "stream",
     "text": [
      "[I 2025-01-31 05:38:02,718] Trial 29 finished with value: 0.0 and parameters: {'num_trees': 750, 'max_depth': 15, 'min_examples': 4}. Best is trial 0 with value: 0.0.\n"
     ]
    },
    {
     "name": "stdout",
     "output_type": "stream",
     "text": [
      "Use /tmp/tmp_1osl91i as temporary training directory\n"
     ]
    },
    {
     "name": "stderr",
     "output_type": "stream",
     "text": [
      "[I 2025-01-31 05:38:04,128] Trial 30 finished with value: 0.0 and parameters: {'num_trees': 900, 'max_depth': 15, 'min_examples': 10}. Best is trial 0 with value: 0.0.\n"
     ]
    },
    {
     "name": "stdout",
     "output_type": "stream",
     "text": [
      "Use /tmp/tmprt5lrdx1 as temporary training directory\n"
     ]
    },
    {
     "name": "stderr",
     "output_type": "stream",
     "text": [
      "[I 2025-01-31 05:38:05,447] Trial 31 finished with value: 0.0 and parameters: {'num_trees': 900, 'max_depth': 15, 'min_examples': 12}. Best is trial 0 with value: 0.0.\n"
     ]
    },
    {
     "name": "stdout",
     "output_type": "stream",
     "text": [
      "Use /tmp/tmp4o8mhpqz as temporary training directory\n"
     ]
    },
    {
     "name": "stderr",
     "output_type": "stream",
     "text": [
      "[I 2025-01-31 05:38:06,669] Trial 32 finished with value: 0.0 and parameters: {'num_trees': 800, 'max_depth': 10, 'min_examples': 10}. Best is trial 0 with value: 0.0.\n"
     ]
    },
    {
     "name": "stdout",
     "output_type": "stream",
     "text": [
      "Use /tmp/tmp0kqick1u as temporary training directory\n"
     ]
    },
    {
     "name": "stderr",
     "output_type": "stream",
     "text": [
      "[I 2025-01-31 05:38:08,436] Trial 33 finished with value: 0.0 and parameters: {'num_trees': 950, 'max_depth': 15, 'min_examples': 4}. Best is trial 0 with value: 0.0.\n"
     ]
    },
    {
     "name": "stdout",
     "output_type": "stream",
     "text": [
      "Use /tmp/tmpl_nt1_no as temporary training directory\n"
     ]
    },
    {
     "name": "stderr",
     "output_type": "stream",
     "text": [
      "[I 2025-01-31 05:38:09,571] Trial 34 finished with value: 0.0 and parameters: {'num_trees': 800, 'max_depth': 20, 'min_examples': 18}. Best is trial 0 with value: 0.0.\n"
     ]
    },
    {
     "name": "stdout",
     "output_type": "stream",
     "text": [
      "Use /tmp/tmpfd92q7q5 as temporary training directory\n"
     ]
    },
    {
     "name": "stderr",
     "output_type": "stream",
     "text": [
      "[I 2025-01-31 05:38:10,503] Trial 35 finished with value: 0.0 and parameters: {'num_trees': 950, 'max_depth': 5, 'min_examples': 12}. Best is trial 0 with value: 0.0.\n"
     ]
    },
    {
     "name": "stdout",
     "output_type": "stream",
     "text": [
      "Use /tmp/tmptws24nu9 as temporary training directory\n"
     ]
    },
    {
     "name": "stderr",
     "output_type": "stream",
     "text": [
      "[I 2025-01-31 05:38:11,652] Trial 36 finished with value: 0.0 and parameters: {'num_trees': 650, 'max_depth': 10, 'min_examples': 8}. Best is trial 0 with value: 0.0.\n"
     ]
    },
    {
     "name": "stdout",
     "output_type": "stream",
     "text": [
      "Use /tmp/tmp0zjp4wd7 as temporary training directory\n"
     ]
    },
    {
     "name": "stderr",
     "output_type": "stream",
     "text": [
      "[I 2025-01-31 05:38:13,126] Trial 37 finished with value: 0.0 and parameters: {'num_trees': 800, 'max_depth': 15, 'min_examples': 6}. Best is trial 0 with value: 0.0.\n"
     ]
    },
    {
     "name": "stdout",
     "output_type": "stream",
     "text": [
      "Use /tmp/tmpnv4ytjii as temporary training directory\n"
     ]
    },
    {
     "name": "stderr",
     "output_type": "stream",
     "text": [
      "[I 2025-01-31 05:38:14,429] Trial 38 finished with value: 0.0 and parameters: {'num_trees': 950, 'max_depth': 15, 'min_examples': 14}. Best is trial 0 with value: 0.0.\n"
     ]
    },
    {
     "name": "stdout",
     "output_type": "stream",
     "text": [
      "Use /tmp/tmpsejbbvl0 as temporary training directory\n"
     ]
    },
    {
     "name": "stderr",
     "output_type": "stream",
     "text": [
      "[I 2025-01-31 05:38:15,320] Trial 39 finished with value: 0.0 and parameters: {'num_trees': 350, 'max_depth': 20, 'min_examples': 12}. Best is trial 0 with value: 0.0.\n"
     ]
    },
    {
     "name": "stdout",
     "output_type": "stream",
     "text": [
      "Use /tmp/tmp0fd0eibo as temporary training directory\n"
     ]
    },
    {
     "name": "stderr",
     "output_type": "stream",
     "text": [
      "[I 2025-01-31 05:38:16,933] Trial 40 finished with value: 0.0 and parameters: {'num_trees': 700, 'max_depth': 5, 'min_examples': 12}. Best is trial 0 with value: 0.0.\n"
     ]
    },
    {
     "name": "stdout",
     "output_type": "stream",
     "text": [
      "Use /tmp/tmphgkhuev5 as temporary training directory\n"
     ]
    },
    {
     "name": "stderr",
     "output_type": "stream",
     "text": [
      "[I 2025-01-31 05:38:17,950] Trial 41 finished with value: 0.0 and parameters: {'num_trees': 850, 'max_depth': 5, 'min_examples': 16}. Best is trial 0 with value: 0.0.\n"
     ]
    },
    {
     "name": "stdout",
     "output_type": "stream",
     "text": [
      "Use /tmp/tmp_nflqd2m as temporary training directory\n"
     ]
    },
    {
     "name": "stderr",
     "output_type": "stream",
     "text": [
      "[I 2025-01-31 05:38:19,202] Trial 42 finished with value: 0.0 and parameters: {'num_trees': 1000, 'max_depth': 10, 'min_examples': 20}. Best is trial 0 with value: 0.0.\n"
     ]
    },
    {
     "name": "stdout",
     "output_type": "stream",
     "text": [
      "Use /tmp/tmp5mc2cs78 as temporary training directory\n"
     ]
    },
    {
     "name": "stderr",
     "output_type": "stream",
     "text": [
      "[I 2025-01-31 05:38:20,086] Trial 43 finished with value: 0.0 and parameters: {'num_trees': 750, 'max_depth': 5, 'min_examples': 20}. Best is trial 0 with value: 0.0.\n"
     ]
    },
    {
     "name": "stdout",
     "output_type": "stream",
     "text": [
      "Use /tmp/tmp77xrjp4w as temporary training directory\n"
     ]
    },
    {
     "name": "stderr",
     "output_type": "stream",
     "text": [
      "[I 2025-01-31 05:38:21,258] Trial 44 finished with value: 0.0 and parameters: {'num_trees': 850, 'max_depth': 10, 'min_examples': 16}. Best is trial 0 with value: 0.0.\n"
     ]
    },
    {
     "name": "stdout",
     "output_type": "stream",
     "text": [
      "Use /tmp/tmpisufmglx as temporary training directory\n"
     ]
    },
    {
     "name": "stderr",
     "output_type": "stream",
     "text": [
      "[I 2025-01-31 05:38:22,510] Trial 45 finished with value: 0.0 and parameters: {'num_trees': 950, 'max_depth': 15, 'min_examples': 18}. Best is trial 0 with value: 0.0.\n"
     ]
    },
    {
     "name": "stdout",
     "output_type": "stream",
     "text": [
      "Use /tmp/tmpe24dknlv as temporary training directory\n"
     ]
    },
    {
     "name": "stderr",
     "output_type": "stream",
     "text": [
      "[I 2025-01-31 05:38:23,731] Trial 46 finished with value: 0.0 and parameters: {'num_trees': 700, 'max_depth': 20, 'min_examples': 10}. Best is trial 0 with value: 0.0.\n"
     ]
    },
    {
     "name": "stdout",
     "output_type": "stream",
     "text": [
      "Use /tmp/tmpa0r6w547 as temporary training directory\n"
     ]
    },
    {
     "name": "stderr",
     "output_type": "stream",
     "text": [
      "[I 2025-01-31 05:38:25,171] Trial 47 finished with value: 0.0 and parameters: {'num_trees': 900, 'max_depth': 15, 'min_examples': 8}. Best is trial 0 with value: 0.0.\n"
     ]
    },
    {
     "name": "stdout",
     "output_type": "stream",
     "text": [
      "Use /tmp/tmpe7atx15k as temporary training directory\n"
     ]
    },
    {
     "name": "stderr",
     "output_type": "stream",
     "text": [
      "[I 2025-01-31 05:38:26,311] Trial 48 finished with value: 0.0 and parameters: {'num_trees': 500, 'max_depth': 20, 'min_examples': 6}. Best is trial 0 with value: 0.0.\n"
     ]
    },
    {
     "name": "stdout",
     "output_type": "stream",
     "text": [
      "Use /tmp/tmp0nog2sea as temporary training directory\n"
     ]
    },
    {
     "name": "stderr",
     "output_type": "stream",
     "text": [
      "[I 2025-01-31 05:38:27,116] Trial 49 finished with value: 0.0 and parameters: {'num_trees': 250, 'max_depth': 10, 'min_examples': 14}. Best is trial 0 with value: 0.0.\n"
     ]
    },
    {
     "name": "stdout",
     "output_type": "stream",
     "text": [
      "Use /tmp/tmpkoup_2pt as temporary training directory\n"
     ]
    },
    {
     "name": "stderr",
     "output_type": "stream",
     "text": [
      "[I 2025-01-31 05:38:27,945] Trial 50 finished with value: 0.0 and parameters: {'num_trees': 600, 'max_depth': 5, 'min_examples': 2}. Best is trial 0 with value: 0.0.\n"
     ]
    },
    {
     "name": "stdout",
     "output_type": "stream",
     "text": [
      "Use /tmp/tmpvxvf4snt as temporary training directory\n"
     ]
    },
    {
     "name": "stderr",
     "output_type": "stream",
     "text": [
      "[I 2025-01-31 05:38:29,323] Trial 51 finished with value: 0.0 and parameters: {'num_trees': 800, 'max_depth': 10, 'min_examples': 6}. Best is trial 0 with value: 0.0.\n"
     ]
    },
    {
     "name": "stdout",
     "output_type": "stream",
     "text": [
      "Use /tmp/tmpasjf8vhf as temporary training directory\n"
     ]
    },
    {
     "name": "stderr",
     "output_type": "stream",
     "text": [
      "[I 2025-01-31 05:38:30,221] Trial 52 finished with value: 0.0 and parameters: {'num_trees': 750, 'max_depth': 5, 'min_examples': 4}. Best is trial 0 with value: 0.0.\n"
     ]
    },
    {
     "name": "stdout",
     "output_type": "stream",
     "text": [
      "Use /tmp/tmpftm5wro8 as temporary training directory\n"
     ]
    },
    {
     "name": "stderr",
     "output_type": "stream",
     "text": [
      "[I 2025-01-31 05:38:31,631] Trial 53 finished with value: 0.0 and parameters: {'num_trees': 850, 'max_depth': 10, 'min_examples': 6}. Best is trial 0 with value: 0.0.\n"
     ]
    },
    {
     "name": "stdout",
     "output_type": "stream",
     "text": [
      "Use /tmp/tmpnz4hqx4f as temporary training directory\n"
     ]
    },
    {
     "name": "stderr",
     "output_type": "stream",
     "text": [
      "[I 2025-01-31 05:38:33,214] Trial 54 finished with value: 0.0 and parameters: {'num_trees': 650, 'max_depth': 15, 'min_examples': 2}. Best is trial 0 with value: 0.0.\n"
     ]
    },
    {
     "name": "stdout",
     "output_type": "stream",
     "text": [
      "Use /tmp/tmpwu857zxw as temporary training directory\n"
     ]
    },
    {
     "name": "stderr",
     "output_type": "stream",
     "text": [
      "[I 2025-01-31 05:38:34,630] Trial 55 finished with value: 0.0 and parameters: {'num_trees': 1000, 'max_depth': 20, 'min_examples': 12}. Best is trial 0 with value: 0.0.\n"
     ]
    },
    {
     "name": "stdout",
     "output_type": "stream",
     "text": [
      "Use /tmp/tmpiiyzg7iz as temporary training directory\n"
     ]
    },
    {
     "name": "stderr",
     "output_type": "stream",
     "text": [
      "[I 2025-01-31 05:38:36,077] Trial 56 finished with value: 0.0 and parameters: {'num_trees': 700, 'max_depth': 15, 'min_examples': 4}. Best is trial 0 with value: 0.0.\n"
     ]
    },
    {
     "name": "stdout",
     "output_type": "stream",
     "text": [
      "Use /tmp/tmpsg61_ilr as temporary training directory\n"
     ]
    },
    {
     "name": "stderr",
     "output_type": "stream",
     "text": [
      "[I 2025-01-31 05:38:37,081] Trial 57 finished with value: 0.0 and parameters: {'num_trees': 450, 'max_depth': 20, 'min_examples': 10}. Best is trial 0 with value: 0.0.\n"
     ]
    },
    {
     "name": "stdout",
     "output_type": "stream",
     "text": [
      "Use /tmp/tmpc_iwfyal as temporary training directory\n"
     ]
    },
    {
     "name": "stderr",
     "output_type": "stream",
     "text": [
      "[I 2025-01-31 05:38:38,424] Trial 58 finished with value: 0.0 and parameters: {'num_trees': 850, 'max_depth': 10, 'min_examples': 8}. Best is trial 0 with value: 0.0.\n"
     ]
    },
    {
     "name": "stdout",
     "output_type": "stream",
     "text": [
      "Use /tmp/tmpu1dbv3z7 as temporary training directory\n"
     ]
    },
    {
     "name": "stderr",
     "output_type": "stream",
     "text": [
      "[I 2025-01-31 05:38:39,692] Trial 59 finished with value: 0.0 and parameters: {'num_trees': 900, 'max_depth': 20, 'min_examples': 16}. Best is trial 0 with value: 0.0.\n"
     ]
    },
    {
     "name": "stdout",
     "output_type": "stream",
     "text": [
      "Use /tmp/tmp93qwrl9k as temporary training directory\n"
     ]
    },
    {
     "name": "stderr",
     "output_type": "stream",
     "text": [
      "[I 2025-01-31 05:38:40,887] Trial 60 finished with value: 0.0 and parameters: {'num_trees': 600, 'max_depth': 15, 'min_examples': 8}. Best is trial 0 with value: 0.0.\n"
     ]
    },
    {
     "name": "stdout",
     "output_type": "stream",
     "text": [
      "Use /tmp/tmpz6npma27 as temporary training directory\n"
     ]
    },
    {
     "name": "stderr",
     "output_type": "stream",
     "text": [
      "[I 2025-01-31 05:38:41,580] Trial 61 finished with value: 0.0 and parameters: {'num_trees': 50, 'max_depth': 15, 'min_examples': 12}. Best is trial 0 with value: 0.0.\n"
     ]
    },
    {
     "name": "stdout",
     "output_type": "stream",
     "text": [
      "Use /tmp/tmpuvq2gs1n as temporary training directory\n"
     ]
    },
    {
     "name": "stderr",
     "output_type": "stream",
     "text": [
      "[I 2025-01-31 05:38:42,463] Trial 62 finished with value: 0.0 and parameters: {'num_trees': 300, 'max_depth': 15, 'min_examples': 14}. Best is trial 0 with value: 0.0.\n"
     ]
    },
    {
     "name": "stdout",
     "output_type": "stream",
     "text": [
      "Use /tmp/tmpoaz98rel as temporary training directory\n"
     ]
    },
    {
     "name": "stderr",
     "output_type": "stream",
     "text": [
      "[I 2025-01-31 05:38:43,231] Trial 63 finished with value: 0.0 and parameters: {'num_trees': 150, 'max_depth': 15, 'min_examples': 10}. Best is trial 0 with value: 0.0.\n"
     ]
    },
    {
     "name": "stdout",
     "output_type": "stream",
     "text": [
      "Use /tmp/tmpfozuoazm as temporary training directory\n"
     ]
    },
    {
     "name": "stderr",
     "output_type": "stream",
     "text": [
      "[I 2025-01-31 05:38:44,177] Trial 64 finished with value: 0.0 and parameters: {'num_trees': 400, 'max_depth': 20, 'min_examples': 14}. Best is trial 0 with value: 0.0.\n"
     ]
    },
    {
     "name": "stdout",
     "output_type": "stream",
     "text": [
      "Use /tmp/tmpejw_d9i0 as temporary training directory\n"
     ]
    },
    {
     "name": "stderr",
     "output_type": "stream",
     "text": [
      "[I 2025-01-31 05:38:44,979] Trial 65 finished with value: 0.0 and parameters: {'num_trees': 200, 'max_depth': 15, 'min_examples': 12}. Best is trial 0 with value: 0.0.\n"
     ]
    },
    {
     "name": "stdout",
     "output_type": "stream",
     "text": [
      "Use /tmp/tmpah5nym3g as temporary training directory\n"
     ]
    },
    {
     "name": "stderr",
     "output_type": "stream",
     "text": [
      "[I 2025-01-31 05:38:47,280] Trial 66 finished with value: 0.0 and parameters: {'num_trees': 800, 'max_depth': 10, 'min_examples': 4}. Best is trial 0 with value: 0.0.\n"
     ]
    },
    {
     "name": "stdout",
     "output_type": "stream",
     "text": [
      "Use /tmp/tmpdjhxyors as temporary training directory\n"
     ]
    },
    {
     "name": "stderr",
     "output_type": "stream",
     "text": [
      "[I 2025-01-31 05:38:47,999] Trial 67 finished with value: 0.0 and parameters: {'num_trees': 100, 'max_depth': 5, 'min_examples': 10}. Best is trial 0 with value: 0.0.\n"
     ]
    },
    {
     "name": "stdout",
     "output_type": "stream",
     "text": [
      "Use /tmp/tmpvexr9qgt as temporary training directory\n"
     ]
    },
    {
     "name": "stderr",
     "output_type": "stream",
     "text": [
      "[I 2025-01-31 05:38:49,233] Trial 68 finished with value: 0.0 and parameters: {'num_trees': 550, 'max_depth': 15, 'min_examples': 12}. Best is trial 0 with value: 0.0.\n"
     ]
    },
    {
     "name": "stdout",
     "output_type": "stream",
     "text": [
      "Use /tmp/tmplopqfm9r as temporary training directory\n"
     ]
    },
    {
     "name": "stderr",
     "output_type": "stream",
     "text": [
      "[I 2025-01-31 05:38:50,162] Trial 69 finished with value: 0.0 and parameters: {'num_trees': 300, 'max_depth': 20, 'min_examples': 16}. Best is trial 0 with value: 0.0.\n"
     ]
    },
    {
     "name": "stdout",
     "output_type": "stream",
     "text": [
      "Use /tmp/tmp8l4so8sl as temporary training directory\n"
     ]
    },
    {
     "name": "stderr",
     "output_type": "stream",
     "text": [
      "[I 2025-01-31 05:38:51,575] Trial 70 finished with value: 0.0 and parameters: {'num_trees': 750, 'max_depth': 15, 'min_examples': 6}. Best is trial 0 with value: 0.0.\n"
     ]
    },
    {
     "name": "stdout",
     "output_type": "stream",
     "text": [
      "Use /tmp/tmp2dw8_n6b as temporary training directory\n"
     ]
    },
    {
     "name": "stderr",
     "output_type": "stream",
     "text": [
      "[I 2025-01-31 05:38:52,475] Trial 71 finished with value: 0.0 and parameters: {'num_trees': 650, 'max_depth': 5, 'min_examples': 12}. Best is trial 0 with value: 0.0.\n"
     ]
    },
    {
     "name": "stdout",
     "output_type": "stream",
     "text": [
      "Use /tmp/tmp4jbp_tbd as temporary training directory\n"
     ]
    },
    {
     "name": "stderr",
     "output_type": "stream",
     "text": [
      "[I 2025-01-31 05:38:53,368] Trial 72 finished with value: 0.0 and parameters: {'num_trees': 750, 'max_depth': 5, 'min_examples': 10}. Best is trial 0 with value: 0.0.\n"
     ]
    },
    {
     "name": "stdout",
     "output_type": "stream",
     "text": [
      "Use /tmp/tmpi0m4akql as temporary training directory\n"
     ]
    },
    {
     "name": "stderr",
     "output_type": "stream",
     "text": [
      "[I 2025-01-31 05:38:54,245] Trial 73 finished with value: 0.0 and parameters: {'num_trees': 700, 'max_depth': 5, 'min_examples': 14}. Best is trial 0 with value: 0.0.\n"
     ]
    },
    {
     "name": "stdout",
     "output_type": "stream",
     "text": [
      "Use /tmp/tmpxgaf6mkk as temporary training directory\n"
     ]
    },
    {
     "name": "stderr",
     "output_type": "stream",
     "text": [
      "[I 2025-01-31 05:38:55,151] Trial 74 finished with value: 0.0 and parameters: {'num_trees': 800, 'max_depth': 5, 'min_examples': 12}. Best is trial 0 with value: 0.0.\n"
     ]
    },
    {
     "name": "stdout",
     "output_type": "stream",
     "text": [
      "Use /tmp/tmpdd2vjzr6 as temporary training directory\n"
     ]
    },
    {
     "name": "stderr",
     "output_type": "stream",
     "text": [
      "[I 2025-01-31 05:38:56,113] Trial 75 finished with value: 0.0 and parameters: {'num_trees': 950, 'max_depth': 5, 'min_examples': 12}. Best is trial 0 with value: 0.0.\n"
     ]
    },
    {
     "name": "stdout",
     "output_type": "stream",
     "text": [
      "Use /tmp/tmp9hk0uwlz as temporary training directory\n"
     ]
    },
    {
     "name": "stderr",
     "output_type": "stream",
     "text": [
      "[I 2025-01-31 05:38:57,156] Trial 76 finished with value: 0.0 and parameters: {'num_trees': 650, 'max_depth': 10, 'min_examples': 18}. Best is trial 0 with value: 0.0.\n"
     ]
    },
    {
     "name": "stdout",
     "output_type": "stream",
     "text": [
      "Use /tmp/tmpasa5e74z as temporary training directory\n"
     ]
    },
    {
     "name": "stderr",
     "output_type": "stream",
     "text": [
      "[I 2025-01-31 05:38:58,361] Trial 77 finished with value: 0.0 and parameters: {'num_trees': 800, 'max_depth': 20, 'min_examples': 14}. Best is trial 0 with value: 0.0.\n"
     ]
    },
    {
     "name": "stdout",
     "output_type": "stream",
     "text": [
      "Use /tmp/tmp0obsgj4x as temporary training directory\n"
     ]
    },
    {
     "name": "stderr",
     "output_type": "stream",
     "text": [
      "[I 2025-01-31 05:38:59,370] Trial 78 finished with value: 0.0 and parameters: {'num_trees': 600, 'max_depth': 10, 'min_examples': 20}. Best is trial 0 with value: 0.0.\n"
     ]
    },
    {
     "name": "stdout",
     "output_type": "stream",
     "text": [
      "Use /tmp/tmp2xraimak as temporary training directory\n"
     ]
    },
    {
     "name": "stderr",
     "output_type": "stream",
     "text": [
      "[I 2025-01-31 05:39:00,830] Trial 79 finished with value: 0.0 and parameters: {'num_trees': 900, 'max_depth': 15, 'min_examples': 8}. Best is trial 0 with value: 0.0.\n"
     ]
    },
    {
     "name": "stdout",
     "output_type": "stream",
     "text": [
      "Use /tmp/tmpgm0q1i04 as temporary training directory\n"
     ]
    },
    {
     "name": "stderr",
     "output_type": "stream",
     "text": [
      "[I 2025-01-31 05:39:01,859] Trial 80 finished with value: 0.0 and parameters: {'num_trees': 450, 'max_depth': 20, 'min_examples': 10}. Best is trial 0 with value: 0.0.\n"
     ]
    },
    {
     "name": "stdout",
     "output_type": "stream",
     "text": [
      "Use /tmp/tmpaets4yn0 as temporary training directory\n"
     ]
    },
    {
     "name": "stderr",
     "output_type": "stream",
     "text": [
      "[I 2025-01-31 05:39:02,603] Trial 81 finished with value: 0.0 and parameters: {'num_trees': 200, 'max_depth': 5, 'min_examples': 6}. Best is trial 0 with value: 0.0.\n"
     ]
    },
    {
     "name": "stdout",
     "output_type": "stream",
     "text": [
      "Use /tmp/tmp9biaqv3f as temporary training directory\n"
     ]
    },
    {
     "name": "stderr",
     "output_type": "stream",
     "text": [
      "[I 2025-01-31 05:39:03,333] Trial 82 finished with value: 0.0 and parameters: {'num_trees': 250, 'max_depth': 5, 'min_examples': 2}. Best is trial 0 with value: 0.0.\n"
     ]
    },
    {
     "name": "stdout",
     "output_type": "stream",
     "text": [
      "Use /tmp/tmpyxndf1a3 as temporary training directory\n"
     ]
    },
    {
     "name": "stderr",
     "output_type": "stream",
     "text": [
      "[I 2025-01-31 05:39:04,003] Trial 83 finished with value: 0.0 and parameters: {'num_trees': 100, 'max_depth': 5, 'min_examples': 4}. Best is trial 0 with value: 0.0.\n"
     ]
    },
    {
     "name": "stdout",
     "output_type": "stream",
     "text": [
      "Use /tmp/tmpop4zb5ed as temporary training directory\n"
     ]
    },
    {
     "name": "stderr",
     "output_type": "stream",
     "text": [
      "[I 2025-01-31 05:39:04,703] Trial 84 finished with value: 0.0 and parameters: {'num_trees': 150, 'max_depth': 5, 'min_examples': 6}. Best is trial 0 with value: 0.0.\n"
     ]
    },
    {
     "name": "stdout",
     "output_type": "stream",
     "text": [
      "Use /tmp/tmpzfzep4p6 as temporary training directory\n"
     ]
    },
    {
     "name": "stderr",
     "output_type": "stream",
     "text": [
      "[I 2025-01-31 05:39:05,440] Trial 85 finished with value: 0.0 and parameters: {'num_trees': 250, 'max_depth': 5, 'min_examples': 4}. Best is trial 0 with value: 0.0.\n"
     ]
    },
    {
     "name": "stdout",
     "output_type": "stream",
     "text": [
      "Use /tmp/tmpfig0zv9e as temporary training directory\n"
     ]
    },
    {
     "name": "stderr",
     "output_type": "stream",
     "text": [
      "[I 2025-01-31 05:39:06,323] Trial 86 finished with value: 0.0 and parameters: {'num_trees': 350, 'max_depth': 10, 'min_examples': 14}. Best is trial 0 with value: 0.0.\n"
     ]
    },
    {
     "name": "stdout",
     "output_type": "stream",
     "text": [
      "Use /tmp/tmpc99efnud as temporary training directory\n"
     ]
    },
    {
     "name": "stderr",
     "output_type": "stream",
     "text": [
      "[I 2025-01-31 05:39:07,517] Trial 87 finished with value: 0.0 and parameters: {'num_trees': 850, 'max_depth': 15, 'min_examples': 18}. Best is trial 0 with value: 0.0.\n"
     ]
    },
    {
     "name": "stdout",
     "output_type": "stream",
     "text": [
      "Use /tmp/tmpszqh8w6s as temporary training directory\n"
     ]
    },
    {
     "name": "stderr",
     "output_type": "stream",
     "text": [
      "[I 2025-01-31 05:39:08,507] Trial 88 finished with value: 0.0 and parameters: {'num_trees': 1000, 'max_depth': 5, 'min_examples': 8}. Best is trial 0 with value: 0.0.\n"
     ]
    },
    {
     "name": "stdout",
     "output_type": "stream",
     "text": [
      "Use /tmp/tmpxtgogutl as temporary training directory\n"
     ]
    },
    {
     "name": "stderr",
     "output_type": "stream",
     "text": [
      "[I 2025-01-31 05:39:09,992] Trial 89 finished with value: 0.0 and parameters: {'num_trees': 700, 'max_depth': 20, 'min_examples': 4}. Best is trial 0 with value: 0.0.\n"
     ]
    },
    {
     "name": "stdout",
     "output_type": "stream",
     "text": [
      "Use /tmp/tmp19o2r0zs as temporary training directory\n"
     ]
    },
    {
     "name": "stderr",
     "output_type": "stream",
     "text": [
      "[I 2025-01-31 05:39:10,732] Trial 90 finished with value: 0.0 and parameters: {'num_trees': 100, 'max_depth': 15, 'min_examples': 12}. Best is trial 0 with value: 0.0.\n"
     ]
    },
    {
     "name": "stdout",
     "output_type": "stream",
     "text": [
      "Use /tmp/tmp9m0i31rz as temporary training directory\n"
     ]
    },
    {
     "name": "stderr",
     "output_type": "stream",
     "text": [
      "[I 2025-01-31 05:39:11,784] Trial 91 finished with value: 0.0 and parameters: {'num_trees': 550, 'max_depth': 20, 'min_examples': 12}. Best is trial 0 with value: 0.0.\n"
     ]
    },
    {
     "name": "stdout",
     "output_type": "stream",
     "text": [
      "Use /tmp/tmpmi6ccs_1 as temporary training directory\n"
     ]
    },
    {
     "name": "stderr",
     "output_type": "stream",
     "text": [
      "[I 2025-01-31 05:39:12,871] Trial 92 finished with value: 0.0 and parameters: {'num_trees': 500, 'max_depth': 20, 'min_examples': 10}. Best is trial 0 with value: 0.0.\n"
     ]
    },
    {
     "name": "stdout",
     "output_type": "stream",
     "text": [
      "Use /tmp/tmp87bjuuge as temporary training directory\n"
     ]
    },
    {
     "name": "stderr",
     "output_type": "stream",
     "text": [
      "[I 2025-01-31 05:39:13,895] Trial 93 finished with value: 0.0 and parameters: {'num_trees': 550, 'max_depth': 20, 'min_examples': 14}. Best is trial 0 with value: 0.0.\n"
     ]
    },
    {
     "name": "stdout",
     "output_type": "stream",
     "text": [
      "Use /tmp/tmp1pq_vo7x as temporary training directory\n"
     ]
    },
    {
     "name": "stderr",
     "output_type": "stream",
     "text": [
      "[I 2025-01-31 05:39:15,888] Trial 94 finished with value: 0.0 and parameters: {'num_trees': 750, 'max_depth': 20, 'min_examples': 12}. Best is trial 0 with value: 0.0.\n"
     ]
    },
    {
     "name": "stdout",
     "output_type": "stream",
     "text": [
      "Use /tmp/tmpreuv9mnq as temporary training directory\n"
     ]
    },
    {
     "name": "stderr",
     "output_type": "stream",
     "text": [
      "[I 2025-01-31 05:39:16,992] Trial 95 finished with value: 0.0 and parameters: {'num_trees': 400, 'max_depth': 20, 'min_examples': 8}. Best is trial 0 with value: 0.0.\n"
     ]
    },
    {
     "name": "stdout",
     "output_type": "stream",
     "text": [
      "Use /tmp/tmp2xsw72_o as temporary training directory\n"
     ]
    },
    {
     "name": "stderr",
     "output_type": "stream",
     "text": [
      "[I 2025-01-31 05:39:17,979] Trial 96 finished with value: 0.0 and parameters: {'num_trees': 350, 'max_depth': 20, 'min_examples': 10}. Best is trial 0 with value: 0.0.\n"
     ]
    },
    {
     "name": "stdout",
     "output_type": "stream",
     "text": [
      "Use /tmp/tmpsfntq2gy as temporary training directory\n"
     ]
    },
    {
     "name": "stderr",
     "output_type": "stream",
     "text": [
      "[I 2025-01-31 05:39:19,085] Trial 97 finished with value: 0.0 and parameters: {'num_trees': 600, 'max_depth': 15, 'min_examples': 14}. Best is trial 0 with value: 0.0.\n"
     ]
    },
    {
     "name": "stdout",
     "output_type": "stream",
     "text": [
      "Use /tmp/tmp3_f14r13 as temporary training directory\n"
     ]
    },
    {
     "name": "stderr",
     "output_type": "stream",
     "text": [
      "[I 2025-01-31 05:39:20,101] Trial 98 finished with value: 0.0 and parameters: {'num_trees': 950, 'max_depth': 5, 'min_examples': 2}. Best is trial 0 with value: 0.0.\n"
     ]
    },
    {
     "name": "stdout",
     "output_type": "stream",
     "text": [
      "Use /tmp/tmp1dd6du34 as temporary training directory\n"
     ]
    },
    {
     "name": "stderr",
     "output_type": "stream",
     "text": [
      "[I 2025-01-31 05:39:21,179] Trial 99 finished with value: 0.0 and parameters: {'num_trees': 450, 'max_depth': 20, 'min_examples': 16}. Best is trial 0 with value: 0.0.\n"
     ]
    },
    {
     "name": "stdout",
     "output_type": "stream",
     "text": [
      "Best Hyperparameters: {'num_trees': 1000, 'max_depth': 20, 'min_examples': 14}\n"
     ]
    }
   ],
   "source": [
    "import optuna\n",
    "\n",
    "\n",
    "def objective(trial):\n",
    "    num_trees = trial.suggest_int(\"num_trees\", 50, 1000, step = 50)\n",
    "    max_depth = trial.suggest_int(\"max_depth\", 5, 20, step = 5)\n",
    "    min_examples = trial.suggest_int(\"min_examples\", 2, 20, step = 2)\n",
    "    rf = tfdf.keras.RandomForestModel(task = tfdf.keras.Task.REGRESSION,\n",
    "                                     num_trees = num_trees,\n",
    "                                     max_depth = max_depth,\n",
    "                                     min_examples = min_examples,\n",
    "                                     random_seed = 1234)\n",
    "    rf.compile(metrics = [\"mse\"])\n",
    "    rf.fit(train_ds, verbose = 0)\n",
    "    eval_results = rf.evaluate(x = test_ds, verbose = 0)\n",
    "    return eval_results[0]\n",
    "\n",
    "study = optuna.create_study(direction = \"minimize\")\n",
    "study.optimize(objective, n_trials = 100)\n",
    "\n",
    "print(\"Best Hyperparameters:\", study.best_params)\n",
    "    \n",
    "\n",
    "\n"
   ]
  },
  {
   "cell_type": "code",
   "execution_count": 14,
   "id": "e192065a",
   "metadata": {
    "execution": {
     "iopub.execute_input": "2025-01-31T05:39:21.246454Z",
     "iopub.status.busy": "2025-01-31T05:39:21.245954Z",
     "iopub.status.idle": "2025-01-31T05:39:22.026283Z",
     "shell.execute_reply": "2025-01-31T05:39:22.024809Z"
    },
    "papermill": {
     "duration": 0.807929,
     "end_time": "2025-01-31T05:39:22.028140",
     "exception": false,
     "start_time": "2025-01-31T05:39:21.220211",
     "status": "completed"
    },
    "tags": []
   },
   "outputs": [
    {
     "name": "stdout",
     "output_type": "stream",
     "text": [
      "Use /tmp/tmplh3fcr89 as temporary training directory\n",
      "Reading training dataset...\n",
      "Training dataset read in 0:00:00.332202. Found 623 examples.\n",
      "Training model...\n",
      "Model trained in 0:00:00.221800\n",
      "Compiling model...\n",
      "Model compiled.\n"
     ]
    },
    {
     "data": {
      "text/plain": [
       "<tf_keras.src.callbacks.History at 0x79a80632c280>"
      ]
     },
     "execution_count": 14,
     "metadata": {},
     "output_type": "execute_result"
    }
   ],
   "source": [
    "rf = tfdf.keras.RandomForestModel(task = tfdf.keras.Task.REGRESSION, \n",
    "                                 num_trees = 550,\n",
    "                                 max_depth = 5,\n",
    "                                 min_examples = 14,\n",
    "                                 random_seed = 1234)\n",
    "rf.compile(metrics = [\"mse\"])\n",
    "rf.fit(x = train_ds)"
   ]
  },
  {
   "cell_type": "code",
   "execution_count": 15,
   "id": "bcb71b72",
   "metadata": {
    "execution": {
     "iopub.execute_input": "2025-01-31T05:39:22.084441Z",
     "iopub.status.busy": "2025-01-31T05:39:22.084034Z",
     "iopub.status.idle": "2025-01-31T05:39:22.095919Z",
     "shell.execute_reply": "2025-01-31T05:39:22.094766Z"
    },
    "papermill": {
     "duration": 0.039815,
     "end_time": "2025-01-31T05:39:22.097675",
     "exception": false,
     "start_time": "2025-01-31T05:39:22.057860",
     "status": "completed"
    },
    "tags": []
   },
   "outputs": [
    {
     "data": {
      "text/html": [
       "\n",
       "<script src=\"https://d3js.org/d3.v6.min.js\"></script>\n",
       "<div id=\"tree_plot_f102f5b03148480eb2f0d7cc621e6aa8\"></div>\n",
       "<script>\n",
       "/*\n",
       " * Copyright 2021 Google LLC.\n",
       " * Licensed under the Apache License, Version 2.0 (the \"License\");\n",
       " * you may not use this file except in compliance with the License.\n",
       " * You may obtain a copy of the License at\n",
       " *\n",
       " *     https://www.apache.org/licenses/LICENSE-2.0\n",
       " *\n",
       " * Unless required by applicable law or agreed to in writing, software\n",
       " * distributed under the License is distributed on an \"AS IS\" BASIS,\n",
       " * WITHOUT WARRANTIES OR CONDITIONS OF ANY KIND, either express or implied.\n",
       " * See the License for the specific language governing permissions and\n",
       " * limitations under the License.\n",
       " */\n",
       "\n",
       "/**\n",
       " *  Plotting of decision trees generated by TF-DF.\n",
       " *\n",
       " *  A tree is a recursive structure of node objects.\n",
       " *  A node contains one or more of the following components:\n",
       " *\n",
       " *    - A value: Representing the output of the node. If the node is not a leaf,\n",
       " *      the value is only present for analysis i.e. it is not used for\n",
       " *      predictions.\n",
       " *\n",
       " *    - A condition : For non-leaf nodes, the condition (also known as split)\n",
       " *      defines a binary test to branch to the positive or negative child.\n",
       " *\n",
       " *    - An explanation: Generally a plot showing the relation between the label\n",
       " *      and the condition to give insights about the effect of the condition.\n",
       " *\n",
       " *    - Two children : For non-leaf nodes, the children nodes. The first\n",
       " *      children (i.e. \"node.children[0]\") is the negative children (drawn in\n",
       " *      red). The second children is the positive one (drawn in green).\n",
       " *\n",
       " */\n",
       "\n",
       "/**\n",
       " * Plots a single decision tree into a DOM element.\n",
       " * @param {!options} options Dictionary of configurations.\n",
       " * @param {!tree} raw_tree Recursive tree structure.\n",
       " * @param {string} canvas_id Id of the output dom element.\n",
       " */\n",
       "function display_tree(options, raw_tree, canvas_id) {\n",
       "  console.log(options);\n",
       "\n",
       "  // Determine the node placement.\n",
       "  const tree_struct = d3.tree().nodeSize(\n",
       "      [options.node_y_offset, options.node_x_offset])(d3.hierarchy(raw_tree));\n",
       "\n",
       "  // Boundaries of the node placement.\n",
       "  let x_min = Infinity;\n",
       "  let x_max = -x_min;\n",
       "  let y_min = Infinity;\n",
       "  let y_max = -x_min;\n",
       "\n",
       "  tree_struct.each(d => {\n",
       "    if (d.x > x_max) x_max = d.x;\n",
       "    if (d.x < x_min) x_min = d.x;\n",
       "    if (d.y > y_max) y_max = d.y;\n",
       "    if (d.y < y_min) y_min = d.y;\n",
       "  });\n",
       "\n",
       "  // Size of the plot.\n",
       "  const width = y_max - y_min + options.node_x_size + options.margin * 2;\n",
       "  const height = x_max - x_min + options.node_y_size + options.margin * 2 +\n",
       "      options.node_y_offset - options.node_y_size;\n",
       "\n",
       "  const plot = d3.select(canvas_id);\n",
       "\n",
       "  // Tool tip\n",
       "  options.tooltip = plot.append('div')\n",
       "                        .attr('width', 100)\n",
       "                        .attr('height', 100)\n",
       "                        .style('padding', '4px')\n",
       "                        .style('background', '#fff')\n",
       "                        .style('box-shadow', '4px 4px 0px rgba(0,0,0,0.1)')\n",
       "                        .style('border', '1px solid black')\n",
       "                        .style('font-family', 'sans-serif')\n",
       "                        .style('font-size', options.font_size)\n",
       "                        .style('position', 'absolute')\n",
       "                        .style('z-index', '10')\n",
       "                        .attr('pointer-events', 'none')\n",
       "                        .style('display', 'none');\n",
       "\n",
       "  // Create canvas\n",
       "  const svg = plot.append('svg').attr('width', width).attr('height', height);\n",
       "  const graph =\n",
       "      svg.style('overflow', 'visible')\n",
       "          .append('g')\n",
       "          .attr('font-family', 'sans-serif')\n",
       "          .attr('font-size', options.font_size)\n",
       "          .attr(\n",
       "              'transform',\n",
       "              () => `translate(${options.margin},${\n",
       "                  - x_min + options.node_y_offset / 2 + options.margin})`);\n",
       "\n",
       "  // Plot bounding box.\n",
       "  if (options.show_plot_bounding_box) {\n",
       "    svg.append('rect')\n",
       "        .attr('width', width)\n",
       "        .attr('height', height)\n",
       "        .attr('fill', 'none')\n",
       "        .attr('stroke-width', 1.0)\n",
       "        .attr('stroke', 'black');\n",
       "  }\n",
       "\n",
       "  // Draw the edges.\n",
       "  display_edges(options, graph, tree_struct);\n",
       "\n",
       "  // Draw the nodes.\n",
       "  display_nodes(options, graph, tree_struct);\n",
       "}\n",
       "\n",
       "/**\n",
       " * Draw the nodes of the tree.\n",
       " * @param {!options} options Dictionary of configurations.\n",
       " * @param {!graph} graph D3 search handle containing the graph.\n",
       " * @param {!tree_struct} tree_struct Structure of the tree (node placement,\n",
       " *     data, etc.).\n",
       " */\n",
       "function display_nodes(options, graph, tree_struct) {\n",
       "  const nodes = graph.append('g')\n",
       "                    .selectAll('g')\n",
       "                    .data(tree_struct.descendants())\n",
       "                    .join('g')\n",
       "                    .attr('transform', d => `translate(${d.y},${d.x})`);\n",
       "\n",
       "  nodes.append('rect')\n",
       "      .attr('x', 0.5)\n",
       "      .attr('y', 0.5)\n",
       "      .attr('width', options.node_x_size)\n",
       "      .attr('height', options.node_y_size)\n",
       "      .attr('stroke', 'lightgrey')\n",
       "      .attr('stroke-width', 1)\n",
       "      .attr('fill', 'white')\n",
       "      .attr('y', -options.node_y_size / 2);\n",
       "\n",
       "  // Brackets on the right of condition nodes without children.\n",
       "  non_leaf_node_without_children =\n",
       "      nodes.filter(node => node.data.condition != null && node.children == null)\n",
       "          .append('g')\n",
       "          .attr('transform', `translate(${options.node_x_size},0)`);\n",
       "\n",
       "  non_leaf_node_without_children.append('path')\n",
       "      .attr('d', 'M0,0 C 10,0 0,10 10,10')\n",
       "      .attr('fill', 'none')\n",
       "      .attr('stroke-width', 1.0)\n",
       "      .attr('stroke', '#F00');\n",
       "\n",
       "  non_leaf_node_without_children.append('path')\n",
       "      .attr('d', 'M0,0 C 10,0 0,-10 10,-10')\n",
       "      .attr('fill', 'none')\n",
       "      .attr('stroke-width', 1.0)\n",
       "      .attr('stroke', '#0F0');\n",
       "\n",
       "  const node_content = nodes.append('g').attr(\n",
       "      'transform',\n",
       "      `translate(0,${options.node_padding - options.node_y_size / 2})`);\n",
       "\n",
       "  node_content.append(node => create_node_element(options, node));\n",
       "}\n",
       "\n",
       "/**\n",
       " * Creates the D3 content for a single node.\n",
       " * @param {!options} options Dictionary of configurations.\n",
       " * @param {!node} node Node to draw.\n",
       " * @return {!d3} D3 content.\n",
       " */\n",
       "function create_node_element(options, node) {\n",
       "  // Output accumulator.\n",
       "  let output = {\n",
       "    // Content to draw.\n",
       "    content: d3.create('svg:g'),\n",
       "    // Vertical offset to the next element to draw.\n",
       "    vertical_offset: 0\n",
       "  };\n",
       "\n",
       "  // Conditions.\n",
       "  if (node.data.condition != null) {\n",
       "    display_condition(options, node.data.condition, output);\n",
       "  }\n",
       "\n",
       "  // Values.\n",
       "  if (node.data.value != null) {\n",
       "    display_value(options, node.data.value, output);\n",
       "  }\n",
       "\n",
       "  // Explanations.\n",
       "  if (node.data.explanation != null) {\n",
       "    display_explanation(options, node.data.explanation, output);\n",
       "  }\n",
       "\n",
       "  return output.content.node();\n",
       "}\n",
       "\n",
       "\n",
       "/**\n",
       " * Adds a single line of text inside of a node.\n",
       " * @param {!options} options Dictionary of configurations.\n",
       " * @param {string} text Text to display.\n",
       " * @param {!output} output Output display accumulator.\n",
       " */\n",
       "function display_node_text(options, text, output) {\n",
       "  output.content.append('text')\n",
       "      .attr('x', options.node_padding)\n",
       "      .attr('y', output.vertical_offset)\n",
       "      .attr('alignment-baseline', 'hanging')\n",
       "      .text(text);\n",
       "  output.vertical_offset += 10;\n",
       "}\n",
       "\n",
       "/**\n",
       " * Adds a single line of text inside of a node with a tooltip.\n",
       " * @param {!options} options Dictionary of configurations.\n",
       " * @param {string} text Text to display.\n",
       " * @param {string} tooltip Text in the Tooltip.\n",
       " * @param {!output} output Output display accumulator.\n",
       " */\n",
       "function display_node_text_with_tooltip(options, text, tooltip, output) {\n",
       "  const item = output.content.append('text')\n",
       "                   .attr('x', options.node_padding)\n",
       "                   .attr('alignment-baseline', 'hanging')\n",
       "                   .text(text);\n",
       "\n",
       "  add_tooltip(options, item, () => tooltip);\n",
       "  output.vertical_offset += 10;\n",
       "}\n",
       "\n",
       "/**\n",
       " * Adds a tooltip to a dom element.\n",
       " * @param {!options} options Dictionary of configurations.\n",
       " * @param {!dom} target Dom element to equip with a tooltip.\n",
       " * @param {!func} get_content Generates the html content of the tooltip.\n",
       " */\n",
       "function add_tooltip(options, target, get_content) {\n",
       "  function show(d) {\n",
       "    options.tooltip.style('display', 'block');\n",
       "    options.tooltip.html(get_content());\n",
       "  }\n",
       "\n",
       "  function hide(d) {\n",
       "    options.tooltip.style('display', 'none');\n",
       "  }\n",
       "\n",
       "  function move(d) {\n",
       "    options.tooltip.style('display', 'block');\n",
       "    options.tooltip.style('left', (d.pageX + 5) + 'px');\n",
       "    options.tooltip.style('top', d.pageY + 'px');\n",
       "  }\n",
       "\n",
       "  target.on('mouseover', show);\n",
       "  target.on('mouseout', hide);\n",
       "  target.on('mousemove', move);\n",
       "}\n",
       "\n",
       "/**\n",
       " * Adds a condition inside of a node.\n",
       " * @param {!options} options Dictionary of configurations.\n",
       " * @param {!condition} condition Condition to display.\n",
       " * @param {!output} output Output display accumulator.\n",
       " */\n",
       "function display_condition(options, condition, output) {\n",
       "  threshold_format = d3.format('r');\n",
       "\n",
       "  if (condition.type === 'IS_MISSING') {\n",
       "    display_node_text(options, `${condition.attribute} is missing`, output);\n",
       "    return;\n",
       "  }\n",
       "\n",
       "  if (condition.type === 'IS_TRUE') {\n",
       "    display_node_text(options, `${condition.attribute} is true`, output);\n",
       "    return;\n",
       "  }\n",
       "\n",
       "  if (condition.type === 'NUMERICAL_IS_HIGHER_THAN') {\n",
       "    format = d3.format('r');\n",
       "    display_node_text(\n",
       "        options,\n",
       "        `${condition.attribute} >= ${threshold_format(condition.threshold)}`,\n",
       "        output);\n",
       "    return;\n",
       "  }\n",
       "\n",
       "  if (condition.type === 'CATEGORICAL_IS_IN') {\n",
       "    display_node_text_with_tooltip(\n",
       "        options, `${condition.attribute} in [...]`,\n",
       "        `${condition.attribute} in [${condition.mask}]`, output);\n",
       "    return;\n",
       "  }\n",
       "\n",
       "  if (condition.type === 'CATEGORICAL_SET_CONTAINS') {\n",
       "    display_node_text_with_tooltip(\n",
       "        options, `${condition.attribute} intersect [...]`,\n",
       "        `${condition.attribute} intersect [${condition.mask}]`, output);\n",
       "    return;\n",
       "  }\n",
       "\n",
       "  if (condition.type === 'NUMERICAL_SPARSE_OBLIQUE') {\n",
       "    display_node_text_with_tooltip(\n",
       "        options, `Sparse oblique split...`,\n",
       "        `[${condition.attributes}]*[${condition.weights}]>=${\n",
       "            threshold_format(condition.threshold)}`,\n",
       "        output);\n",
       "    return;\n",
       "  }\n",
       "\n",
       "  display_node_text(\n",
       "      options, `Non supported condition ${condition.type}`, output);\n",
       "}\n",
       "\n",
       "/**\n",
       " * Adds a value inside of a node.\n",
       " * @param {!options} options Dictionary of configurations.\n",
       " * @param {!value} value Value to display.\n",
       " * @param {!output} output Output display accumulator.\n",
       " */\n",
       "function display_value(options, value, output) {\n",
       "  if (value.type === 'PROBABILITY') {\n",
       "    const left_margin = 0;\n",
       "    const right_margin = 50;\n",
       "    const plot_width = options.node_x_size - options.node_padding * 2 -\n",
       "        left_margin - right_margin;\n",
       "\n",
       "    let cusum = Array.from(d3.cumsum(value.distribution));\n",
       "    cusum.unshift(0);\n",
       "    const distribution_plot = output.content.append('g').attr(\n",
       "        'transform', `translate(0,${output.vertical_offset + 0.5})`);\n",
       "\n",
       "    distribution_plot.selectAll('rect')\n",
       "        .data(value.distribution)\n",
       "        .join('rect')\n",
       "        .attr('height', 10)\n",
       "        .attr(\n",
       "            'x',\n",
       "            (d, i) =>\n",
       "                (cusum[i] * plot_width + left_margin + options.node_padding))\n",
       "        .attr('width', (d, i) => d * plot_width)\n",
       "        .style('fill', (d, i) => d3.schemeSet1[i]);\n",
       "\n",
       "    const num_examples =\n",
       "        output.content.append('g')\n",
       "            .attr('transform', `translate(0,${output.vertical_offset})`)\n",
       "            .append('text')\n",
       "            .attr('x', options.node_x_size - options.node_padding)\n",
       "            .attr('alignment-baseline', 'hanging')\n",
       "            .attr('text-anchor', 'end')\n",
       "            .text(`(${value.num_examples})`);\n",
       "\n",
       "    const distribution_details = d3.create('ul');\n",
       "    distribution_details.selectAll('li')\n",
       "        .data(value.distribution)\n",
       "        .join('li')\n",
       "        .append('span')\n",
       "        .text(\n",
       "            (d, i) =>\n",
       "                'class ' + i + ': ' + d3.format('.3%')(value.distribution[i]));\n",
       "\n",
       "    add_tooltip(options, distribution_plot, () => distribution_details.html());\n",
       "    add_tooltip(options, num_examples, () => 'Number of examples');\n",
       "\n",
       "    output.vertical_offset += 10;\n",
       "    return;\n",
       "  }\n",
       "\n",
       "  if (value.type === 'REGRESSION') {\n",
       "    display_node_text(\n",
       "        options,\n",
       "        'value: ' + d3.format('r')(value.value) + ` (` +\n",
       "            d3.format('.6')(value.num_examples) + `)`,\n",
       "        output);\n",
       "    return;\n",
       "  }\n",
       "\n",
       "  if (value.type === 'UPLIFT') {\n",
       "    display_node_text(\n",
       "        options,\n",
       "        'effect: ' + d3.format('r')(value.treatment_effect) + ` (` +\n",
       "            d3.format('.6')(value.num_examples) + `)`,\n",
       "        output);\n",
       "    return;\n",
       "  }\n",
       "\n",
       "  display_node_text(options, `Non supported value ${value.type}`, output);\n",
       "}\n",
       "\n",
       "/**\n",
       " * Adds an explanation inside of a node.\n",
       " * @param {!options} options Dictionary of configurations.\n",
       " * @param {!explanation} explanation Explanation to display.\n",
       " * @param {!output} output Output display accumulator.\n",
       " */\n",
       "function display_explanation(options, explanation, output) {\n",
       "  // Margin before the explanation.\n",
       "  output.vertical_offset += 10;\n",
       "\n",
       "  display_node_text(\n",
       "      options, `Non supported explanation ${explanation.type}`, output);\n",
       "}\n",
       "\n",
       "\n",
       "/**\n",
       " * Draw the edges of the tree.\n",
       " * @param {!options} options Dictionary of configurations.\n",
       " * @param {!graph} graph D3 search handle containing the graph.\n",
       " * @param {!tree_struct} tree_struct Structure of the tree (node placement,\n",
       " *     data, etc.).\n",
       " */\n",
       "function display_edges(options, graph, tree_struct) {\n",
       "  // Draw an edge between a parent and a child node with a bezier.\n",
       "  function draw_single_edge(d) {\n",
       "    return 'M' + (d.source.y + options.node_x_size) + ',' + d.source.x + ' C' +\n",
       "        (d.source.y + options.node_x_size + options.edge_rounding) + ',' +\n",
       "        d.source.x + ' ' + (d.target.y - options.edge_rounding) + ',' +\n",
       "        d.target.x + ' ' + d.target.y + ',' + d.target.x;\n",
       "  }\n",
       "\n",
       "  graph.append('g')\n",
       "      .attr('fill', 'none')\n",
       "      .attr('stroke-width', 1.2)\n",
       "      .selectAll('path')\n",
       "      .data(tree_struct.links())\n",
       "      .join('path')\n",
       "      .attr('d', draw_single_edge)\n",
       "      .attr(\n",
       "          'stroke', d => (d.target === d.source.children[0]) ? '#0F0' : '#F00');\n",
       "}\n",
       "\n",
       "display_tree({\"margin\": 10, \"node_x_size\": 160, \"node_y_size\": 28, \"node_x_offset\": 180, \"node_y_offset\": 33, \"font_size\": 10, \"edge_rounding\": 20, \"node_padding\": 2, \"show_plot_bounding_box\": false}, {\"value\": {\"type\": \"REGRESSION\", \"value\": 0.36918139457702637, \"num_examples\": 623.0, \"standard_deviation\": 0.48258314182168244}, \"condition\": {\"type\": \"NUMERICAL_IS_HIGHER_THAN\", \"attribute\": \"Sex\", \"threshold\": 0.5}, \"children\": [{\"value\": {\"type\": \"REGRESSION\", \"value\": 0.7821782231330872, \"num_examples\": 202.0, \"standard_deviation\": 0.4127656155579372}, \"condition\": {\"type\": \"NUMERICAL_IS_HIGHER_THAN\", \"attribute\": \"Categorical_Fare\", \"threshold\": 1.5}, \"children\": [{\"value\": {\"type\": \"REGRESSION\", \"value\": 0.8670886158943176, \"num_examples\": 158.0, \"standard_deviation\": 0.3394789451114907}, \"condition\": {\"type\": \"NUMERICAL_IS_HIGHER_THAN\", \"attribute\": \"Fare\", \"threshold\": 11.758350372314453}, \"children\": [{\"value\": {\"type\": \"REGRESSION\", \"value\": 0.9256198406219482, \"num_examples\": 121.0, \"standard_deviation\": 0.26238855977500086}, \"condition\": {\"type\": \"NUMERICAL_IS_HIGHER_THAN\", \"attribute\": \"Ticket_number\", \"threshold\": 241020.5}}, {\"value\": {\"type\": \"REGRESSION\", \"value\": 0.6756756901741028, \"num_examples\": 37.0, \"standard_deviation\": 0.46812183988348033}, \"condition\": {\"type\": \"NUMERICAL_IS_HIGHER_THAN\", \"attribute\": \"Fare\", \"threshold\": 7.902100086212158}}]}, {\"value\": {\"type\": \"REGRESSION\", \"value\": 0.47727271914482117, \"num_examples\": 44.0, \"standard_deviation\": 0.4994832039962707}, \"condition\": {\"type\": \"NUMERICAL_IS_HIGHER_THAN\", \"attribute\": \"Family\", \"threshold\": 4.5}, \"children\": [{\"value\": {\"type\": \"REGRESSION\", \"value\": 0.2142857164144516, \"num_examples\": 14.0, \"standard_deviation\": 0.41032590332414487}}, {\"value\": {\"type\": \"REGRESSION\", \"value\": 0.6000000238418579, \"num_examples\": 30.0, \"standard_deviation\": 0.4898979485566356}, \"condition\": {\"type\": \"NUMERICAL_IS_HIGHER_THAN\", \"attribute\": \"Len_Name\", \"threshold\": 30.0}}]}]}, {\"value\": {\"type\": \"REGRESSION\", \"value\": 0.17102137207984924, \"num_examples\": 421.0, \"standard_deviation\": 0.3765276431436458}, \"condition\": {\"type\": \"NUMERICAL_IS_HIGHER_THAN\", \"attribute\": \"Age_categorical\", \"threshold\": 5.0}, \"children\": [{\"value\": {\"type\": \"REGRESSION\", \"value\": 0.1388888955116272, \"num_examples\": 396.0, \"standard_deviation\": 0.3458305443885759}, \"condition\": {\"type\": \"NUMERICAL_IS_HIGHER_THAN\", \"attribute\": \"Fare\", \"threshold\": 26.268749237060547}, \"children\": [{\"value\": {\"type\": \"REGRESSION\", \"value\": 0.3799999952316284, \"num_examples\": 100.0, \"standard_deviation\": 0.4853864439804639}, \"condition\": {\"type\": \"NUMERICAL_IS_HIGHER_THAN\", \"attribute\": \"Age_categorical\", \"threshold\": 15.0}}, {\"value\": {\"type\": \"REGRESSION\", \"value\": 0.05743243172764778, \"num_examples\": 296.0, \"standard_deviation\": 0.23266703276856074}, \"condition\": {\"type\": \"NUMERICAL_IS_HIGHER_THAN\", \"attribute\": \"Ticket_number\", \"threshold\": 3101282.5}}]}, {\"value\": {\"type\": \"REGRESSION\", \"value\": 0.6800000071525574, \"num_examples\": 25.0, \"standard_deviation\": 0.4664761515876241}}]}]}, \"#tree_plot_f102f5b03148480eb2f0d7cc621e6aa8\")\n",
       "</script>\n"
      ],
      "text/plain": [
       "<IPython.core.display.HTML object>"
      ]
     },
     "execution_count": 15,
     "metadata": {},
     "output_type": "execute_result"
    }
   ],
   "source": [
    "tfdf.model_plotter.plot_model_in_colab(rf, tree_idx = 0, max_depth = 3)"
   ]
  },
  {
   "cell_type": "code",
   "execution_count": 16,
   "id": "5b03b910",
   "metadata": {
    "execution": {
     "iopub.execute_input": "2025-01-31T05:39:22.149173Z",
     "iopub.status.busy": "2025-01-31T05:39:22.148799Z",
     "iopub.status.idle": "2025-01-31T05:39:22.322337Z",
     "shell.execute_reply": "2025-01-31T05:39:22.321238Z"
    },
    "papermill": {
     "duration": 0.201171,
     "end_time": "2025-01-31T05:39:22.324124",
     "exception": false,
     "start_time": "2025-01-31T05:39:22.122953",
     "status": "completed"
    },
    "tags": []
   },
   "outputs": [
    {
     "data": {
      "image/png": "[encoded data removed]",
      "text/plain": [
       "<Figure size 640x480 with 1 Axes>"
      ]
     },
     "metadata": {},
     "output_type": "display_data"
    }
   ],
   "source": [
    "logs = rf.make_inspector().training_logs()\n",
    "plt.plot([log.num_trees for log in logs], [log.evaluation.rmse for log in logs])\n",
    "plt.xlabel(\"Number of trees\")\n",
    "plt.ylabel(\"RMSE out of bags\")\n",
    "plt.show()"
   ]
  },
  {
   "cell_type": "code",
   "execution_count": 17,
   "id": "5fc36d46",
   "metadata": {
    "execution": {
     "iopub.execute_input": "2025-01-31T05:39:22.376800Z",
     "iopub.status.busy": "2025-01-31T05:39:22.376449Z",
     "iopub.status.idle": "2025-01-31T05:39:22.385007Z",
     "shell.execute_reply": "2025-01-31T05:39:22.383715Z"
    },
    "papermill": {
     "duration": 0.037092,
     "end_time": "2025-01-31T05:39:22.386775",
     "exception": false,
     "start_time": "2025-01-31T05:39:22.349683",
     "status": "completed"
    },
    "tags": []
   },
   "outputs": [
    {
     "data": {
      "text/plain": [
       "Evaluation(num_examples=623, accuracy=None, loss=None, rmse=0.36814281510282876, ndcg=None, aucs=None, auuc=None, qini=None)"
      ]
     },
     "execution_count": 17,
     "metadata": {},
     "output_type": "execute_result"
    }
   ],
   "source": [
    "inspector = rf.make_inspector()\n",
    "inspector.evaluation()"
   ]
  },
  {
   "cell_type": "code",
   "execution_count": 18,
   "id": "171e00e6",
   "metadata": {
    "execution": {
     "iopub.execute_input": "2025-01-31T05:39:22.439662Z",
     "iopub.status.busy": "2025-01-31T05:39:22.439303Z",
     "iopub.status.idle": "2025-01-31T05:39:22.584434Z",
     "shell.execute_reply": "2025-01-31T05:39:22.583324Z"
    },
    "papermill": {
     "duration": 0.173394,
     "end_time": "2025-01-31T05:39:22.586230",
     "exception": false,
     "start_time": "2025-01-31T05:39:22.412836",
     "status": "completed"
    },
    "tags": []
   },
   "outputs": [
    {
     "name": "stdout",
     "output_type": "stream",
     "text": [
      "1/1 [==============================] - 0s 133ms/step - loss: 0.0000e+00 - mse: 0.1238\n",
      "loss, 0.0000\n",
      "mse, 0.1238\n"
     ]
    }
   ],
   "source": [
    "evaluation = rf.evaluate(x = test_ds, return_dict = True)\n",
    "for name, value in evaluation.items():\n",
    "    print(f\"{name}, {value:.4f}\")"
   ]
  },
  {
   "cell_type": "code",
   "execution_count": 19,
   "id": "a4db0731",
   "metadata": {
    "execution": {
     "iopub.execute_input": "2025-01-31T05:39:22.640919Z",
     "iopub.status.busy": "2025-01-31T05:39:22.640462Z",
     "iopub.status.idle": "2025-01-31T05:39:22.647067Z",
     "shell.execute_reply": "2025-01-31T05:39:22.645955Z"
    },
    "papermill": {
     "duration": 0.035598,
     "end_time": "2025-01-31T05:39:22.648768",
     "exception": false,
     "start_time": "2025-01-31T05:39:22.613170",
     "status": "completed"
    },
    "tags": []
   },
   "outputs": [
    {
     "name": "stdout",
     "output_type": "stream",
     "text": [
      "Available variable importances:\n",
      "\t NUM_NODES\n",
      "\t INV_MEAN_MIN_DEPTH\n",
      "\t NUM_AS_ROOT\n",
      "\t SUM_SCORE\n"
     ]
    }
   ],
   "source": [
    "print(f\"Available variable importances:\")\n",
    "for importance in inspector.variable_importances().keys():\n",
    "    print(\"\\t\", importance)"
   ]
  },
  {
   "cell_type": "code",
   "execution_count": 20,
   "id": "1efaed36",
   "metadata": {
    "execution": {
     "iopub.execute_input": "2025-01-31T05:39:22.702402Z",
     "iopub.status.busy": "2025-01-31T05:39:22.701996Z",
     "iopub.status.idle": "2025-01-31T05:39:22.959119Z",
     "shell.execute_reply": "2025-01-31T05:39:22.957799Z"
    },
    "papermill": {
     "duration": 0.286026,
     "end_time": "2025-01-31T05:39:22.960992",
     "exception": false,
     "start_time": "2025-01-31T05:39:22.674966",
     "status": "completed"
    },
    "tags": []
   },
   "outputs": [
    {
     "data": {
      "image/png": "[encoded data removed]",
      "text/plain": [
       "<Figure size 1200x400 with 1 Axes>"
      ]
     },
     "metadata": {},
     "output_type": "display_data"
    }
   ],
   "source": [
    "plt.figure(figsize = (12,4))\n",
    "\n",
    "variable_importances = inspector.variable_importances()[\"NUM_AS_ROOT\"]\n",
    "\n",
    "feature_names = [vi[0].name for vi in variable_importances]\n",
    "feature_importances = [vi[1] for vi in variable_importances]\n",
    "feature_ranks = range(len(feature_names))\n",
    "\n",
    "bar = plt.barh(feature_ranks, feature_importances, label = [str(x) for x in feature_ranks])\n",
    "plt.yticks(feature_ranks, feature_names)\n",
    "plt.gca().invert_yaxis()\n",
    "\n",
    "for importance, patch in zip(feature_importances, bar.patches):\n",
    "    plt.text(patch.get_x() + patch.get_width(), patch.get_y(), f\"{importance:.4f}\", va = \"top\")\n",
    "\n",
    "plt.xlabel(\"NUM AS ROOT\")\n",
    "plt.title(\"NUM AS ROOT of the class 1 vs the others\")\n",
    "plt.tight_layout()\n",
    "plt.show()"
   ]
  },
  {
   "cell_type": "code",
   "execution_count": 21,
   "id": "eb7a21d8",
   "metadata": {
    "execution": {
     "iopub.execute_input": "2025-01-31T05:39:23.017296Z",
     "iopub.status.busy": "2025-01-31T05:39:23.016880Z",
     "iopub.status.idle": "2025-01-31T05:39:23.155508Z",
     "shell.execute_reply": "2025-01-31T05:39:23.154348Z"
    },
    "papermill": {
     "duration": 0.169285,
     "end_time": "2025-01-31T05:39:23.157260",
     "exception": false,
     "start_time": "2025-01-31T05:39:22.987975",
     "status": "completed"
    },
    "tags": []
   },
   "outputs": [
    {
     "name": "stdout",
     "output_type": "stream",
     "text": [
      "<class 'pandas.core.frame.DataFrame'>\n",
      "RangeIndex: 418 entries, 0 to 417\n",
      "Data columns (total 15 columns):\n",
      " #   Column            Non-Null Count  Dtype  \n",
      "---  ------            --------------  -----  \n",
      " 0   Pclass            418 non-null    int64  \n",
      " 1   Sex               418 non-null    int64  \n",
      " 2   SibSp             418 non-null    int64  \n",
      " 3   Parch             418 non-null    int64  \n",
      " 4   Fare              418 non-null    float64\n",
      " 5   Cabin             418 non-null    int64  \n",
      " 6   Embarked          418 non-null    int64  \n",
      " 7   Ticket_items      418 non-null    int64  \n",
      " 8   Ticket_number     418 non-null    int64  \n",
      " 9   Age_categorical   418 non-null    int64  \n",
      " 10  Family            418 non-null    int64  \n",
      " 11  Len_Name          418 non-null    int64  \n",
      " 12  Title             418 non-null    int64  \n",
      " 13  Categorical_Fare  418 non-null    int64  \n",
      " 14  Is_Alone          418 non-null    int64  \n",
      "dtypes: float64(1), int64(14)\n",
      "memory usage: 49.1 KB\n",
      "1/1 [==============================] - 0s 61ms/step\n"
     ]
    },
    {
     "data": {
      "text/html": [
       "<div>\n",
       "<style scoped>\n",
       "    .dataframe tbody tr th:only-of-type {\n",
       "        vertical-align: middle;\n",
       "    }\n",
       "\n",
       "    .dataframe tbody tr th {\n",
       "        vertical-align: top;\n",
       "    }\n",
       "\n",
       "    .dataframe thead th {\n",
       "        text-align: right;\n",
       "    }\n",
       "</style>\n",
       "<table border=\"1\" class=\"dataframe\">\n",
       "  <thead>\n",
       "    <tr style=\"text-align: right;\">\n",
       "      <th></th>\n",
       "      <th>PassengerId</th>\n",
       "      <th>Survived</th>\n",
       "    </tr>\n",
       "  </thead>\n",
       "  <tbody>\n",
       "    <tr>\n",
       "      <th>0</th>\n",
       "      <td>892</td>\n",
       "      <td>0</td>\n",
       "    </tr>\n",
       "    <tr>\n",
       "      <th>1</th>\n",
       "      <td>893</td>\n",
       "      <td>0</td>\n",
       "    </tr>\n",
       "    <tr>\n",
       "      <th>2</th>\n",
       "      <td>894</td>\n",
       "      <td>0</td>\n",
       "    </tr>\n",
       "    <tr>\n",
       "      <th>3</th>\n",
       "      <td>895</td>\n",
       "      <td>0</td>\n",
       "    </tr>\n",
       "    <tr>\n",
       "      <th>4</th>\n",
       "      <td>896</td>\n",
       "      <td>0</td>\n",
       "    </tr>\n",
       "  </tbody>\n",
       "</table>\n",
       "</div>"
      ],
      "text/plain": [
       "   PassengerId  Survived\n",
       "0          892         0\n",
       "1          893         0\n",
       "2          894         0\n",
       "3          895         0\n",
       "4          896         0"
      ]
     },
     "execution_count": 21,
     "metadata": {},
     "output_type": "execute_result"
    }
   ],
   "source": [
    "test_data = pd.read_csv(\"/kaggle/input/titanic/test.csv\")\n",
    "ids = test_data.pop(\"PassengerId\")\n",
    "\n",
    "test_df = preprocess(test_data)\n",
    "test_df.info()\n",
    "\n",
    "test = tfdf.keras.pd_dataframe_to_tf_dataset(test_df,\n",
    "                                            task = tfdf.keras.Task.REGRESSION)\n",
    "\n",
    "pred = (rf.predict(test) >=0.5).astype(int)\n",
    "output = pd.DataFrame({\"PassengerId\": ids, \"Survived\": pred.squeeze()})\n",
    "output.head()"
   ]
  },
  {
   "cell_type": "code",
   "execution_count": 22,
   "id": "e578bd0c",
   "metadata": {
    "execution": {
     "iopub.execute_input": "2025-01-31T05:39:23.213000Z",
     "iopub.status.busy": "2025-01-31T05:39:23.212576Z",
     "iopub.status.idle": "2025-01-31T05:39:23.236992Z",
     "shell.execute_reply": "2025-01-31T05:39:23.235720Z"
    },
    "papermill": {
     "duration": 0.054188,
     "end_time": "2025-01-31T05:39:23.238885",
     "exception": false,
     "start_time": "2025-01-31T05:39:23.184697",
     "status": "completed"
    },
    "tags": []
   },
   "outputs": [
    {
     "data": {
      "text/html": [
       "<div>\n",
       "<style scoped>\n",
       "    .dataframe tbody tr th:only-of-type {\n",
       "        vertical-align: middle;\n",
       "    }\n",
       "\n",
       "    .dataframe tbody tr th {\n",
       "        vertical-align: top;\n",
       "    }\n",
       "\n",
       "    .dataframe thead th {\n",
       "        text-align: right;\n",
       "    }\n",
       "</style>\n",
       "<table border=\"1\" class=\"dataframe\">\n",
       "  <thead>\n",
       "    <tr style=\"text-align: right;\">\n",
       "      <th></th>\n",
       "      <th>PassengerId</th>\n",
       "      <th>Survived</th>\n",
       "    </tr>\n",
       "  </thead>\n",
       "  <tbody>\n",
       "    <tr>\n",
       "      <th>0</th>\n",
       "      <td>892</td>\n",
       "      <td>0</td>\n",
       "    </tr>\n",
       "    <tr>\n",
       "      <th>1</th>\n",
       "      <td>893</td>\n",
       "      <td>0</td>\n",
       "    </tr>\n",
       "    <tr>\n",
       "      <th>2</th>\n",
       "      <td>894</td>\n",
       "      <td>0</td>\n",
       "    </tr>\n",
       "    <tr>\n",
       "      <th>3</th>\n",
       "      <td>895</td>\n",
       "      <td>0</td>\n",
       "    </tr>\n",
       "    <tr>\n",
       "      <th>4</th>\n",
       "      <td>896</td>\n",
       "      <td>0</td>\n",
       "    </tr>\n",
       "  </tbody>\n",
       "</table>\n",
       "</div>"
      ],
      "text/plain": [
       "   PassengerId  Survived\n",
       "0          892         0\n",
       "1          893         0\n",
       "2          894         0\n",
       "3          895         0\n",
       "4          896         0"
      ]
     },
     "execution_count": 22,
     "metadata": {},
     "output_type": "execute_result"
    }
   ],
   "source": [
    "submission = pd.read_csv(\"/kaggle/input/titanic/gender_submission.csv\")\n",
    "submission[\"Survived\"] = pred\n",
    "submission.to_csv(\"/kaggle/working/submission20.csv\", index = False)\n",
    "submission.head()"
   ]
  }
 ],
 "metadata": {
  "kaggle": {
   "accelerator": "none",
   "dataSources": [
    {
     "databundleVersionId": 26502,
     "sourceId": 3136,
     "sourceType": "competition"
    }
   ],
   "dockerImageVersionId": 30839,
   "isGpuEnabled": false,
   "isInternetEnabled": true,
   "language": "python",
   "sourceType": "notebook"
  },
  "kernelspec": {
   "display_name": "Python 3",
   "language": "python",
   "name": "python3"
  },
  "language_info": {
   "codemirror_mode": {
    "name": "ipython",
    "version": 3
   },
   "file_extension": ".py",
   "mimetype": "text/x-python",
   "name": "python",
   "nbconvert_exporter": "python",
   "pygments_lexer": "ipython3",
   "version": "3.10.12"
  },
  "papermill": {
   "default_parameters": {},
   "duration": 153.721881,
   "end_time": "2025-01-31T05:39:26.702472",
   "environment_variables": {},
   "exception": null,
   "input_path": "__notebook__.ipynb",
   "output_path": "__notebook__.ipynb",
   "parameters": {},
   "start_time": "2025-01-31T05:36:52.980591",
   "version": "2.6.0"
  }
 },
 "nbformat": 4,
 "nbformat_minor": 5
}
