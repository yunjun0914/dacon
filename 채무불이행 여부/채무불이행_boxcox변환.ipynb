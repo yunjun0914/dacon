{
 "cells": [
  {
   "cell_type": "code",
   "execution_count": 159,
   "metadata": {},
   "outputs": [
    {
     "name": "stdout",
     "output_type": "stream",
     "text": [
      "GPU가 감지되지않습니다. CPU환경에서 실행됩니다.\n"
     ]
    }
   ],
   "source": [
    "import pandas as pd\n",
    "import numpy as np\n",
    "import seaborn as sns\n",
    "import tensorflow as tf\n",
    "import matplotlib.pyplot as plt\n",
    "\n",
    "from sklearn.preprocessing import LabelEncoder, StandardScaler\n",
    "from sklearn.impute import SimpleImputer\n",
    "from sklearn.metrics import roc_auc_score\n",
    "from sklearn.model_selection import train_test_split, KFold\n",
    "from imblearn.over_sampling import SMOTE\n",
    "\n",
    "gpus = tf.config.experimental.list_physical_devices(\"GPU\")\n",
    "if gpus:\n",
    "    for gpu in gpus:\n",
    "        tf.config.experimental.set_memory_growth(gpus, True)\n",
    "    print(\"GPU 환경에서 실행됩니다.\")\n",
    "else:\n",
    "    print(\"GPU가 감지되지않습니다. CPU환경에서 실행됩니다.\")"
   ]
  },
  {
   "cell_type": "code",
   "execution_count": 160,
   "metadata": {},
   "outputs": [],
   "source": [
    "import os\n",
    "file_path = os.getcwd()\n",
    "train_path = os.path.join(file_path,\"채무불이행 여부\", \"데이터셋\", \"train.csv\")\n",
    "test_path = os.path.join(file_path, \"채무불이행 여부\", \"데이터셋\", \"test.csv\")\n",
    "train_df = pd.read_csv(train_path)\n",
    "test_df = pd.read_csv(test_path)\n"
   ]
  },
  {
   "cell_type": "code",
   "execution_count": 161,
   "metadata": {},
   "outputs": [
    {
     "data": {
      "text/html": [
       "<div>\n",
       "<style scoped>\n",
       "    .dataframe tbody tr th:only-of-type {\n",
       "        vertical-align: middle;\n",
       "    }\n",
       "\n",
       "    .dataframe tbody tr th {\n",
       "        vertical-align: top;\n",
       "    }\n",
       "\n",
       "    .dataframe thead th {\n",
       "        text-align: right;\n",
       "    }\n",
       "</style>\n",
       "<table border=\"1\" class=\"dataframe\">\n",
       "  <thead>\n",
       "    <tr style=\"text-align: right;\">\n",
       "      <th></th>\n",
       "      <th>UID</th>\n",
       "      <th>주거 형태</th>\n",
       "      <th>연간 소득</th>\n",
       "      <th>현재 직장 근속 연수</th>\n",
       "      <th>체납 세금 압류 횟수</th>\n",
       "      <th>개설된 신용계좌 수</th>\n",
       "      <th>신용 거래 연수</th>\n",
       "      <th>최대 신용한도</th>\n",
       "      <th>신용 문제 발생 횟수</th>\n",
       "      <th>마지막 연체 이후 경과 개월 수</th>\n",
       "      <th>...</th>\n",
       "      <th>채무 불이행 여부</th>\n",
       "      <th>연간소득분위</th>\n",
       "      <th>개설된_신용계좌_분위수</th>\n",
       "      <th>위험분자1</th>\n",
       "      <th>위험분자2</th>\n",
       "      <th>신용거래분위</th>\n",
       "      <th>VIP</th>\n",
       "      <th>신용한도vs대출잔액</th>\n",
       "      <th>신용거래연수_개설신용계좌</th>\n",
       "      <th>목적별_개설된_신용계좌수_평균</th>\n",
       "    </tr>\n",
       "  </thead>\n",
       "  <tbody>\n",
       "    <tr>\n",
       "      <th>0</th>\n",
       "      <td>TRAIN_00000</td>\n",
       "      <td>1</td>\n",
       "      <td>1941337.5</td>\n",
       "      <td>10</td>\n",
       "      <td>0.0</td>\n",
       "      <td>9</td>\n",
       "      <td>13</td>\n",
       "      <td>400597.5</td>\n",
       "      <td>0</td>\n",
       "      <td>24</td>\n",
       "      <td>...</td>\n",
       "      <td>0</td>\n",
       "      <td>3</td>\n",
       "      <td>2</td>\n",
       "      <td>0</td>\n",
       "      <td>0</td>\n",
       "      <td>1</td>\n",
       "      <td>0</td>\n",
       "      <td>97.579996</td>\n",
       "      <td>18.571922</td>\n",
       "      <td>12.0</td>\n",
       "    </tr>\n",
       "    <tr>\n",
       "      <th>1</th>\n",
       "      <td>TRAIN_00001</td>\n",
       "      <td>0</td>\n",
       "      <td>1979505.0</td>\n",
       "      <td>10</td>\n",
       "      <td>0.0</td>\n",
       "      <td>5</td>\n",
       "      <td>15</td>\n",
       "      <td>360679.5</td>\n",
       "      <td>0</td>\n",
       "      <td>11</td>\n",
       "      <td>...</td>\n",
       "      <td>0</td>\n",
       "      <td>3</td>\n",
       "      <td>1</td>\n",
       "      <td>0</td>\n",
       "      <td>0</td>\n",
       "      <td>2</td>\n",
       "      <td>0</td>\n",
       "      <td>277.859629</td>\n",
       "      <td>18.039216</td>\n",
       "      <td>12.0</td>\n",
       "    </tr>\n",
       "    <tr>\n",
       "      <th>2</th>\n",
       "      <td>TRAIN_00002</td>\n",
       "      <td>0</td>\n",
       "      <td>1356381.0</td>\n",
       "      <td>4</td>\n",
       "      <td>0.0</td>\n",
       "      <td>12</td>\n",
       "      <td>18</td>\n",
       "      <td>491770.5</td>\n",
       "      <td>1</td>\n",
       "      <td>74</td>\n",
       "      <td>...</td>\n",
       "      <td>1</td>\n",
       "      <td>2</td>\n",
       "      <td>3</td>\n",
       "      <td>0</td>\n",
       "      <td>1</td>\n",
       "      <td>3</td>\n",
       "      <td>0</td>\n",
       "      <td>46.317446</td>\n",
       "      <td>18.984709</td>\n",
       "      <td>12.0</td>\n",
       "    </tr>\n",
       "    <tr>\n",
       "      <th>3</th>\n",
       "      <td>TRAIN_00003</td>\n",
       "      <td>0</td>\n",
       "      <td>1049017.5</td>\n",
       "      <td>6</td>\n",
       "      <td>0.0</td>\n",
       "      <td>15</td>\n",
       "      <td>14</td>\n",
       "      <td>411546.0</td>\n",
       "      <td>1</td>\n",
       "      <td>22</td>\n",
       "      <td>...</td>\n",
       "      <td>1</td>\n",
       "      <td>1</td>\n",
       "      <td>4</td>\n",
       "      <td>1</td>\n",
       "      <td>1</td>\n",
       "      <td>2</td>\n",
       "      <td>0</td>\n",
       "      <td>61.082817</td>\n",
       "      <td>19.806630</td>\n",
       "      <td>12.0</td>\n",
       "    </tr>\n",
       "    <tr>\n",
       "      <th>4</th>\n",
       "      <td>TRAIN_00004</td>\n",
       "      <td>0</td>\n",
       "      <td>4320217.5</td>\n",
       "      <td>2</td>\n",
       "      <td>0.0</td>\n",
       "      <td>11</td>\n",
       "      <td>26</td>\n",
       "      <td>895288.5</td>\n",
       "      <td>0</td>\n",
       "      <td>32</td>\n",
       "      <td>...</td>\n",
       "      <td>0</td>\n",
       "      <td>5</td>\n",
       "      <td>2</td>\n",
       "      <td>0</td>\n",
       "      <td>0</td>\n",
       "      <td>5</td>\n",
       "      <td>0</td>\n",
       "      <td>129.921941</td>\n",
       "      <td>19.110526</td>\n",
       "      <td>12.0</td>\n",
       "    </tr>\n",
       "  </tbody>\n",
       "</table>\n",
       "<p>5 rows × 27 columns</p>\n",
       "</div>"
      ],
      "text/plain": [
       "           UID  주거 형태      연간 소득  현재 직장 근속 연수  체납 세금 압류 횟수  개설된 신용계좌 수  \\\n",
       "0  TRAIN_00000      1  1941337.5           10          0.0           9   \n",
       "1  TRAIN_00001      0  1979505.0           10          0.0           5   \n",
       "2  TRAIN_00002      0  1356381.0            4          0.0          12   \n",
       "3  TRAIN_00003      0  1049017.5            6          0.0          15   \n",
       "4  TRAIN_00004      0  4320217.5            2          0.0          11   \n",
       "\n",
       "   신용 거래 연수   최대 신용한도  신용 문제 발생 횟수  마지막 연체 이후 경과 개월 수  ...  채무 불이행 여부  연간소득분위  \\\n",
       "0        13  400597.5            0                 24  ...          0       3   \n",
       "1        15  360679.5            0                 11  ...          0       3   \n",
       "2        18  491770.5            1                 74  ...          1       2   \n",
       "3        14  411546.0            1                 22  ...          1       1   \n",
       "4        26  895288.5            0                 32  ...          0       5   \n",
       "\n",
       "   개설된_신용계좌_분위수  위험분자1  위험분자2  신용거래분위  VIP  신용한도vs대출잔액  신용거래연수_개설신용계좌  \\\n",
       "0             2      0      0       1    0   97.579996      18.571922   \n",
       "1             1      0      0       2    0  277.859629      18.039216   \n",
       "2             3      0      1       3    0   46.317446      18.984709   \n",
       "3             4      1      1       2    0   61.082817      19.806630   \n",
       "4             2      0      0       5    0  129.921941      19.110526   \n",
       "\n",
       "   목적별_개설된_신용계좌수_평균  \n",
       "0              12.0  \n",
       "1              12.0  \n",
       "2              12.0  \n",
       "3              12.0  \n",
       "4              12.0  \n",
       "\n",
       "[5 rows x 27 columns]"
      ]
     },
     "execution_count": 161,
     "metadata": {},
     "output_type": "execute_result"
    }
   ],
   "source": [
    "def preprocess(df):\n",
    "    df = df.copy()\n",
    "    def year(x):\n",
    "        return \"\".join(v.replace(\"이상\", \"\").replace(\"년\", \"\") for v in x.split(\" \"))\n",
    "\n",
    "    def year1(x):\n",
    "        return \"\".join(v.replace('1미만', \"0\") for v in x.split(\" \"))\n",
    "\n",
    " \n",
    "    df[\"현재 직장 근속 연수\"] = df[\"현재 직장 근속 연수\"].apply(year)\n",
    "    df[\"현재 직장 근속 연수\"] = df[\"현재 직장 근속 연수\"].apply(year1).astype(int)\n",
    "\n",
    "    df[\"연간소득분위\"] = pd.qcut(df[\"연간 소득\"], 5, labels = [1,2,3,4,5], duplicates = \"drop\").astype(int)\n",
    "    df[\"개설된_신용계좌_분위수\"] = pd.qcut(df[\"개설된 신용계좌 수\"], 5, labels = [1,2,3,4,5], duplicates = \"drop\").astype(int)\n",
    "\n",
    "    df[\"위험분자1\"] = ((df[\"개설된_신용계좌_분위수\"] > 3) & (df[\"연간소득분위\"] < 3)).astype(int)\n",
    "    df[\"위험분자2\"] = ((df[\"신용 문제 발생 횟수\"] > 0) & (df[\"개인 파산 횟수\"] > 0) | (df[\"체납 세금 압류 횟수\"] > 0)).astype(int)\n",
    "\n",
    "    df[\"신용거래분위\"] = pd.qcut(df[\"신용 거래 연수\"], 5, labels = [1,2,3,4,5], duplicates = \"drop\").astype(int)\n",
    "    df[\"VIP\"] = ((df[\"개설된_신용계좌_분위수\"] > 3) & (df[\"신용거래분위\"] > 3)).astype(int)\n",
    "    \n",
    "\n",
    "\n",
    "    \n",
    "    df[\"신용 거래 연수\"] = df[\"신용 거래 연수\"].astype(int)\n",
    "    df[\"신용한도vs대출잔액\"] = (df[\"현재 대출 잔액\"] +1 )  / (df[\"최대 신용한도\"] + 1)* 100\n",
    "    신용거래 = df.groupby(\"개설된 신용계좌 수\")[\"신용 거래 연수\"].agg(\"mean\")\n",
    "    df[\"신용거래연수_개설신용계좌\"] = df[\"개설된 신용계좌 수\"].map(신용거래)\n",
    "    \n",
    "    cols = ([\"주거 형태\",\"대출 목적\", \"대출 상환 기간\"])\n",
    "    for c in cols:\n",
    "        lb = LabelEncoder()\n",
    "        lb.fit(df[c].values)\n",
    "        df[c] = lb.transform(list(df[c].values))\n",
    "        df[c] = df[c].astype(int)\n",
    "        \n",
    "    bankcount_purpose = df.groupby(\"대출 목적\")[\"개설된 신용계좌 수\"].agg(\"median\")\n",
    "    purpose_bankcount = df.groupby(\"개설된 신용계좌 수\")[\"연간 소득\"].agg(\"median\")\n",
    "    df[\"목적별_개설된_신용계좌수_평균\"] = df[\"대출 목적\"].map(bankcount_purpose)\n",
    "    #df[\"계좌수별_소득\"] = df[\"개설된 신용계좌 수\"].map(purpose_bankcount)\n",
    "    \n",
    "    return df\n",
    "\n",
    "train = preprocess(train_df)\n",
    "test = preprocess(test_df)\n",
    "train.head()"
   ]
  },
  {
   "cell_type": "code",
   "execution_count": 162,
   "metadata": {},
   "outputs": [],
   "source": [
    "target = train[\"채무 불이행 여부\"]\n",
    "uid = test[\"UID\"]\n",
    "\n",
    "train = train.drop([\"채무 불이행 여부\", \"UID\"], axis = 1)\n",
    "test = test.drop(\"UID\", axis = 1)"
   ]
  },
  {
   "cell_type": "code",
   "execution_count": 163,
   "metadata": {},
   "outputs": [
    {
     "name": "stdout",
     "output_type": "stream",
     "text": [
      "<class 'pandas.core.frame.DataFrame'>\n",
      "RangeIndex: 10000 entries, 0 to 9999\n",
      "Data columns (total 25 columns):\n",
      " #   Column             Non-Null Count  Dtype  \n",
      "---  ------             --------------  -----  \n",
      " 0   주거 형태              10000 non-null  int64  \n",
      " 1   연간 소득              10000 non-null  float64\n",
      " 2   현재 직장 근속 연수        10000 non-null  int64  \n",
      " 3   체납 세금 압류 횟수        10000 non-null  float64\n",
      " 4   개설된 신용계좌 수         10000 non-null  int64  \n",
      " 5   신용 거래 연수           10000 non-null  int64  \n",
      " 6   최대 신용한도            10000 non-null  float64\n",
      " 7   신용 문제 발생 횟수        10000 non-null  int64  \n",
      " 8   마지막 연체 이후 경과 개월 수  10000 non-null  int64  \n",
      " 9   개인 파산 횟수           10000 non-null  int64  \n",
      " 10  대출 목적              10000 non-null  int64  \n",
      " 11  대출 상환 기간           10000 non-null  int64  \n",
      " 12  현재 대출 잔액           10000 non-null  float64\n",
      " 13  현재 미상환 신용액         10000 non-null  float64\n",
      " 14  월 상환 부채액           10000 non-null  float64\n",
      " 15  신용 점수              10000 non-null  int64  \n",
      " 16  연간소득분위             10000 non-null  int64  \n",
      " 17  개설된_신용계좌_분위수       10000 non-null  int64  \n",
      " 18  위험분자1              10000 non-null  int64  \n",
      " 19  위험분자2              10000 non-null  int64  \n",
      " 20  신용거래분위             10000 non-null  int64  \n",
      " 21  VIP                10000 non-null  int64  \n",
      " 22  신용한도vs대출잔액         10000 non-null  float64\n",
      " 23  신용거래연수_개설신용계좌      10000 non-null  float64\n",
      " 24  목적별_개설된_신용계좌수_평균   10000 non-null  float64\n",
      "dtypes: float64(9), int64(16)\n",
      "memory usage: 1.9 MB\n"
     ]
    }
   ],
   "source": [
    "train.info()"
   ]
  },
  {
   "cell_type": "code",
   "execution_count": 164,
   "metadata": {},
   "outputs": [
    {
     "name": "stdout",
     "output_type": "stream",
     "text": [
      "<class 'pandas.core.frame.DataFrame'>\n",
      "RangeIndex: 10000 entries, 0 to 9999\n",
      "Data columns (total 5 columns):\n",
      " #   Column      Non-Null Count  Dtype  \n",
      "---  ------      --------------  -----  \n",
      " 0   최대 신용한도     10000 non-null  float64\n",
      " 1   현재 대출 잔액    10000 non-null  float64\n",
      " 2   현재 미상환 신용액  10000 non-null  float64\n",
      " 3   연간 소득       10000 non-null  float64\n",
      " 4   월 상환 부채액    10000 non-null  float64\n",
      "dtypes: float64(5)\n",
      "memory usage: 390.8 KB\n",
      "None\n"
     ]
    }
   ],
   "source": [
    "from scipy.stats import boxcox\n",
    "\n",
    "cols = [\"최대 신용한도\", \"현재 대출 잔액\", \"현재 미상환 신용액\", \"연간 소득\", \"월 상환 부채액\"]\n",
    "for c in cols:\n",
    "    train[c] = train[c].where((train[c] > 0), np.nan)\n",
    "    test[c] = test[c].where((test[c] > 0), np.nan)\n",
    "    train[c] = train[c].fillna(train[c].median())\n",
    "    test[c] = test[c].fillna(test[c].median())\n",
    "    \n",
    "    train[c], l = boxcox(train[c])\n",
    "    test[c], l2 = boxcox(test[c])\n",
    "print(train[cols].info())"
   ]
  },
  {
   "cell_type": "code",
   "execution_count": 165,
   "metadata": {},
   "outputs": [
    {
     "name": "stdout",
     "output_type": "stream",
     "text": [
      "            최대 신용한도      현재 대출 잔액    현재 미상환 신용액         연간 소득      월 상환 부채액\n",
      "count  10000.000000  10000.000000  10000.000000  10000.000000  10000.000000\n",
      "mean      27.687612    106.947209     41.396724      2.879252    121.469908\n",
      "std        3.441236     16.404588      6.755067      0.003492     34.254658\n",
      "min        9.454365     50.907395     10.036393      2.860570      0.439571\n",
      "25%       26.055129     95.956774     36.999796      2.877004     96.981417\n",
      "50%       27.682038    108.435283     40.928808      2.879109    123.272652\n",
      "75%       29.031378    115.023128     45.863310      2.881363    145.131711\n",
      "max       42.084575    143.795523     67.417392      2.890255    275.743292\n",
      "0.35943067458931166\n"
     ]
    }
   ],
   "source": [
    "print(train[cols].describe())\n",
    "print(l2)"
   ]
  },
  {
   "cell_type": "code",
   "execution_count": 166,
   "metadata": {},
   "outputs": [
    {
     "data": {
      "image/png": "[encoded data removed]",
      "text/plain": [
       "<Figure size 1200x800 with 6 Axes>"
      ]
     },
     "metadata": {},
     "output_type": "display_data"
    }
   ],
   "source": [
    "import matplotlib.font_manager as fm\n",
    "\n",
    "plt.rc(\"font\", family = \"NanumGothic\")\n",
    "\n",
    "train[cols].hist(figsize = (12,8), bins = 50);"
   ]
  },
  {
   "cell_type": "code",
   "execution_count": 167,
   "metadata": {},
   "outputs": [],
   "source": [
    "from scipy.stats import boxcox_normmax\n",
    "box_cols = [\"신용한도vs대출잔액\", \"신용 점수\"]\n",
    "for c in box_cols:\n",
    "    train[c] = train[c].where((train[c] > 0), np.nan)\n",
    "    test[c] = test[c].where((test[c] > 0), np.nan)\n",
    "    train[c] = train[c].fillna(train[c].median())\n",
    "    test[c] = test[c].fillna(test[c].median())\n",
    "\n",
    "    train[c] = np.log1p(train[c])\n",
    "    test[c] = np.log1p(test[c])"
   ]
  },
  {
   "cell_type": "code",
   "execution_count": 168,
   "metadata": {},
   "outputs": [],
   "source": [
    "for c in cols:\n",
    "    train[c] = train[c].where((train[c] > 0), np.nan)\n",
    "    test[c] = test[c].where((test[c] > 0), np.nan)\n",
    "    train[c] = train[c].fillna(train[c].median())\n",
    "    test[c] = test[c].fillna(test[c].median())"
   ]
  },
  {
   "cell_type": "code",
   "execution_count": 169,
   "metadata": {},
   "outputs": [
    {
     "name": "stdout",
     "output_type": "stream",
     "text": [
      "<class 'pandas.core.frame.DataFrame'>\n",
      "RangeIndex: 10000 entries, 0 to 9999\n",
      "Data columns (total 25 columns):\n",
      " #   Column             Non-Null Count  Dtype  \n",
      "---  ------             --------------  -----  \n",
      " 0   주거 형태              10000 non-null  int64  \n",
      " 1   연간 소득              10000 non-null  float64\n",
      " 2   현재 직장 근속 연수        10000 non-null  int64  \n",
      " 3   체납 세금 압류 횟수        10000 non-null  float64\n",
      " 4   개설된 신용계좌 수         10000 non-null  int64  \n",
      " 5   신용 거래 연수           10000 non-null  int64  \n",
      " 6   최대 신용한도            10000 non-null  float64\n",
      " 7   신용 문제 발생 횟수        10000 non-null  int64  \n",
      " 8   마지막 연체 이후 경과 개월 수  10000 non-null  int64  \n",
      " 9   개인 파산 횟수           10000 non-null  int64  \n",
      " 10  대출 목적              10000 non-null  int64  \n",
      " 11  대출 상환 기간           10000 non-null  int64  \n",
      " 12  현재 대출 잔액           10000 non-null  float64\n",
      " 13  현재 미상환 신용액         10000 non-null  float64\n",
      " 14  월 상환 부채액           10000 non-null  float64\n",
      " 15  신용 점수              10000 non-null  float64\n",
      " 16  연간소득분위             10000 non-null  int64  \n",
      " 17  개설된_신용계좌_분위수       10000 non-null  int64  \n",
      " 18  위험분자1              10000 non-null  int64  \n",
      " 19  위험분자2              10000 non-null  int64  \n",
      " 20  신용거래분위             10000 non-null  int64  \n",
      " 21  VIP                10000 non-null  int64  \n",
      " 22  신용한도vs대출잔액         10000 non-null  float64\n",
      " 23  신용거래연수_개설신용계좌      10000 non-null  float64\n",
      " 24  목적별_개설된_신용계좌수_평균   10000 non-null  float64\n",
      "dtypes: float64(10), int64(15)\n",
      "memory usage: 1.9 MB\n"
     ]
    }
   ],
   "source": [
    "train.info()"
   ]
  },
  {
   "cell_type": "code",
   "execution_count": 195,
   "metadata": {},
   "outputs": [
    {
     "data": {
      "text/plain": [
       "'\\nscaler = MinMaxScaler()\\ntrain = scaler.fit_transform(train)\\ntest = scaler.transform(test)\\n\\nstandard = StandardScaler()\\nX_scaled = standard.fit_transform(train)\\ntest_scaled = standard.transform(test)\\n'"
      ]
     },
     "execution_count": 195,
     "metadata": {},
     "output_type": "execute_result"
    }
   ],
   "source": [
    "from sklearn.preprocessing import MinMaxScaler\n",
    "\"\"\"\n",
    "scaler = MinMaxScaler()\n",
    "train = scaler.fit_transform(train)\n",
    "test = scaler.transform(test)\n",
    "\n",
    "standard = StandardScaler()\n",
    "X_scaled = standard.fit_transform(train)\n",
    "test_scaled = standard.transform(test)\n",
    "\"\"\""
   ]
  },
  {
   "cell_type": "code",
   "execution_count": 178,
   "metadata": {},
   "outputs": [
    {
     "data": {
      "text/plain": [
       "array([[<Axes: title={'center': '최대 신용한도'}>,\n",
       "        <Axes: title={'center': '현재 대출 잔액'}>],\n",
       "       [<Axes: title={'center': '현재 미상환 신용액'}>,\n",
       "        <Axes: title={'center': '연간 소득'}>],\n",
       "       [<Axes: title={'center': '월 상환 부채액'}>, <Axes: >]], dtype=object)"
      ]
     },
     "execution_count": 178,
     "metadata": {},
     "output_type": "execute_result"
    },
    {
     "data": {
      "image/png": "[encoded data removed]",
      "text/plain": [
       "<Figure size 1200x800 with 6 Axes>"
      ]
     },
     "metadata": {},
     "output_type": "display_data"
    }
   ],
   "source": [
    "train[cols].hist(figsize = (12,8), bins = 50)"
   ]
  },
  {
   "cell_type": "code",
   "execution_count": 171,
   "metadata": {},
   "outputs": [
    {
     "name": "stdout",
     "output_type": "stream",
     "text": [
      "[[-1.08977069e+00  8.90340872e+02  1.00929806e+00 ... -9.00696459e-02\n",
      "  -8.41819218e-01 -2.17918350e+00]\n",
      " [ 1.14910078e+00  9.00731577e+02 -1.25268773e+00 ...  1.42374200e-01\n",
      "  -9.50988434e-01 -8.62137989e-01]\n",
      " [ 1.14910078e+00  9.06260215e+02  1.00929806e+00 ... -3.55088453e-02\n",
      "  -3.64890791e-01 -8.62137989e-01]\n",
      " ...\n",
      " [ 2.96650470e-02  8.99900079e+02  1.00929806e+00 ... -8.90918104e-02\n",
      "   1.91737674e-01 -8.62137989e-01]\n",
      " [ 1.14910078e+00  9.23508876e+02 -1.21694836e-01 ...  1.74820757e-01\n",
      "   3.33407237e-01 -8.62137989e-01]\n",
      " [-1.08977069e+00  8.97006163e+02  4.43801613e-01 ... -2.10977729e-01\n",
      "   8.53178628e-01 -8.62137989e-01]]\n"
     ]
    }
   ],
   "source": [
    "print(test_scaled)"
   ]
  },
  {
   "cell_type": "code",
   "execution_count": 198,
   "metadata": {},
   "outputs": [],
   "source": [
    "smote = SMOTE(random_state= 42)\n",
    "X_resampled, y_resampled = smote.fit_resample(train, target)"
   ]
  },
  {
   "cell_type": "code",
   "execution_count": null,
   "metadata": {},
   "outputs": [
    {
     "name": "stdout",
     "output_type": "stream",
     "text": [
      "Fold 1 시작!\n"
     ]
    },
    {
     "name": "stderr",
     "output_type": "stream",
     "text": [
      "C:\\Users\\yunju\\AppData\\Local\\Packages\\PythonSoftwareFoundation.Python.3.11_qbz5n2kfra8p0\\LocalCache\\local-packages\\Python311\\site-packages\\keras\\src\\layers\\core\\dense.py:87: UserWarning: Do not pass an `input_shape`/`input_dim` argument to a layer. When using Sequential models, prefer using an `Input(shape)` object as the first layer in the model instead.\n",
      "  super().__init__(activity_regularizer=activity_regularizer, **kwargs)\n"
     ]
    },
    {
     "name": "stdout",
     "output_type": "stream",
     "text": [
      "\u001b[1m83/83\u001b[0m \u001b[32m━━━━━━━━━━━━━━━━━━━━\u001b[0m\u001b[37m\u001b[0m \u001b[1m0s\u001b[0m 3ms/step\n",
      "Fold1 ROC-AUC score 0.7393\n",
      "Fold 2 시작!\n"
     ]
    },
    {
     "name": "stderr",
     "output_type": "stream",
     "text": [
      "C:\\Users\\yunju\\AppData\\Local\\Packages\\PythonSoftwareFoundation.Python.3.11_qbz5n2kfra8p0\\LocalCache\\local-packages\\Python311\\site-packages\\keras\\src\\layers\\core\\dense.py:87: UserWarning: Do not pass an `input_shape`/`input_dim` argument to a layer. When using Sequential models, prefer using an `Input(shape)` object as the first layer in the model instead.\n",
      "  super().__init__(activity_regularizer=activity_regularizer, **kwargs)\n"
     ]
    },
    {
     "name": "stdout",
     "output_type": "stream",
     "text": [
      "\u001b[1m83/83\u001b[0m \u001b[32m━━━━━━━━━━━━━━━━━━━━\u001b[0m\u001b[37m\u001b[0m \u001b[1m0s\u001b[0m 3ms/step\n",
      "Fold2 ROC-AUC score 0.7231\n",
      "Fold 3 시작!\n"
     ]
    },
    {
     "name": "stderr",
     "output_type": "stream",
     "text": [
      "C:\\Users\\yunju\\AppData\\Local\\Packages\\PythonSoftwareFoundation.Python.3.11_qbz5n2kfra8p0\\LocalCache\\local-packages\\Python311\\site-packages\\keras\\src\\layers\\core\\dense.py:87: UserWarning: Do not pass an `input_shape`/`input_dim` argument to a layer. When using Sequential models, prefer using an `Input(shape)` object as the first layer in the model instead.\n",
      "  super().__init__(activity_regularizer=activity_regularizer, **kwargs)\n"
     ]
    },
    {
     "name": "stdout",
     "output_type": "stream",
     "text": [
      "\u001b[1m83/83\u001b[0m \u001b[32m━━━━━━━━━━━━━━━━━━━━\u001b[0m\u001b[37m\u001b[0m \u001b[1m0s\u001b[0m 4ms/step\n",
      "Fold3 ROC-AUC score 0.6951\n",
      "Fold 4 시작!\n"
     ]
    },
    {
     "name": "stderr",
     "output_type": "stream",
     "text": [
      "C:\\Users\\yunju\\AppData\\Local\\Packages\\PythonSoftwareFoundation.Python.3.11_qbz5n2kfra8p0\\LocalCache\\local-packages\\Python311\\site-packages\\keras\\src\\layers\\core\\dense.py:87: UserWarning: Do not pass an `input_shape`/`input_dim` argument to a layer. When using Sequential models, prefer using an `Input(shape)` object as the first layer in the model instead.\n",
      "  super().__init__(activity_regularizer=activity_regularizer, **kwargs)\n"
     ]
    }
   ],
   "source": [
    "all_history = []\n",
    "kf = KFold(n_splits = 5, shuffle= True, random_state= 42)\n",
    "fold = 1\n",
    "roc_auc_scores = []\n",
    "\n",
    "for train_index, valid_index in kf.split(X_resampled):\n",
    "    print(f\"Fold {fold} 시작!\")\n",
    "    \n",
    "    X_train_fold, X_valid_fold = X_resampled[train_index], X_resampled[valid_index]\n",
    "    y_train_fold, y_valid_fold = y_resampled[train_index], y_resampled[valid_index]\n",
    "\n",
    "    model = tf.keras.Sequential([\n",
    "        tf.keras.layers.Dense(128, activation= \"relu\", input_shape = (X_train_fold.shape[1],)),\n",
    "        tf.keras.layers.Dropout(0.3),\n",
    "        tf.keras.layers.Dense(64, activation = \"relu\"),\n",
    "        tf.keras.layers.Dropout(0.3),\n",
    "        tf.keras.layers.Dense(32, activation= \"relu\"),\n",
    "        tf.keras.layers.Dense(1, activation= \"sigmoid\")\n",
    "    ])\n",
    "\n",
    "    model.compile(\n",
    "        optimizer = tf.keras.optimizers.Adam(learning_rate= 1e-5),\n",
    "        loss = \"binary_crossentropy\",\n",
    "        metrics = [\"accuracy\"]\n",
    "    )\n",
    "\n",
    "    earlystop = tf.keras.callbacks.EarlyStopping(\n",
    "        monitor = \"val_loss\",\n",
    "        patience = 5,\n",
    "        min_delta = 0.001,\n",
    "        restore_best_weights = True\n",
    "    )\n",
    "\n",
    "    history = model.fit(\n",
    "        X_train_fold, y_train_fold,\n",
    "        validation_data = (X_valid_fold, y_valid_fold),\n",
    "        epochs = 100,\n",
    "        callbacks = earlystop,\n",
    "        verbose = 0\n",
    "    )\n",
    "    all_history.append(history.history)\n",
    "    y_valid_pred = model.predict(X_valid_fold).ravel()\n",
    "    roc_auc = roc_auc_score(y_valid_fold, y_valid_pred)\n",
    "    print(f\"Fold{fold} ROC-AUC score {roc_auc:.4f}\")\n",
    "    roc_auc_scores.append(roc_auc)\n",
    "    fold += 1\n",
    "\n",
    "print(f\"교차 검증 ROC-AUC 평균점수 {np.mean(roc_auc_scores):.4f}\")\n",
    "\n",
    "for i, history in enumerate(all_history):\n",
    "    epochs = range(1, len(history[\"val_loss\"]) + 1)\n",
    "    plt.figure(figsize = (12,4))\n",
    "    plt.subplot(1,2,1)\n",
    "    plt.plot(epochs, history[\"accuracy\"], label = \"Train Accuracy\")\n",
    "    plt.plot(epochs, history[\"val_accuracy\"], label = \"Validation Accuracy\")\n",
    "    plt.xlabel(\"Epochs\")\n",
    "    plt.ylabel(\"Accuracy\")\n",
    "    plt.legend()\n",
    "\n",
    "    plt.subplot(1,2,2)\n",
    "    plt.plot(epochs, history[\"loss\"], label = \"Train Loss\")\n",
    "    plt.plot(epochs, history[\"val_loss\"], label = \"Validation Loss\")\n",
    "    plt.xlabel(\"Epochs\")\n",
    "    plt.ylabel(\"Loss\")\n",
    "    plt.legend()\n",
    "    plt.tight_layout()\n",
    "    plt.show()"
   ]
  },
  {
   "cell_type": "code",
   "execution_count": 197,
   "metadata": {},
   "outputs": [
    {
     "name": "stdout",
     "output_type": "stream",
     "text": [
      "\u001b[1m65/65\u001b[0m \u001b[32m━━━━━━━━━━━━━━━━━━━━\u001b[0m\u001b[37m\u001b[0m \u001b[1m0s\u001b[0m 2ms/step\n"
     ]
    },
    {
     "data": {
      "text/html": [
       "<div>\n",
       "<style scoped>\n",
       "    .dataframe tbody tr th:only-of-type {\n",
       "        vertical-align: middle;\n",
       "    }\n",
       "\n",
       "    .dataframe tbody tr th {\n",
       "        vertical-align: top;\n",
       "    }\n",
       "\n",
       "    .dataframe thead th {\n",
       "        text-align: right;\n",
       "    }\n",
       "</style>\n",
       "<table border=\"1\" class=\"dataframe\">\n",
       "  <thead>\n",
       "    <tr style=\"text-align: right;\">\n",
       "      <th></th>\n",
       "      <th>UID</th>\n",
       "      <th>채무 불이행 확률</th>\n",
       "    </tr>\n",
       "  </thead>\n",
       "  <tbody>\n",
       "    <tr>\n",
       "      <th>0</th>\n",
       "      <td>TEST_0000</td>\n",
       "      <td>1.913749e-07</td>\n",
       "    </tr>\n",
       "    <tr>\n",
       "      <th>1</th>\n",
       "      <td>TEST_0001</td>\n",
       "      <td>1.143859e-07</td>\n",
       "    </tr>\n",
       "    <tr>\n",
       "      <th>2</th>\n",
       "      <td>TEST_0002</td>\n",
       "      <td>1.018959e-07</td>\n",
       "    </tr>\n",
       "    <tr>\n",
       "      <th>3</th>\n",
       "      <td>TEST_0003</td>\n",
       "      <td>1.446181e-07</td>\n",
       "    </tr>\n",
       "    <tr>\n",
       "      <th>4</th>\n",
       "      <td>TEST_0004</td>\n",
       "      <td>1.295216e-07</td>\n",
       "    </tr>\n",
       "  </tbody>\n",
       "</table>\n",
       "</div>"
      ],
      "text/plain": [
       "         UID     채무 불이행 확률\n",
       "0  TEST_0000  1.913749e-07\n",
       "1  TEST_0001  1.143859e-07\n",
       "2  TEST_0002  1.018959e-07\n",
       "3  TEST_0003  1.446181e-07\n",
       "4  TEST_0004  1.295216e-07"
      ]
     },
     "execution_count": 197,
     "metadata": {},
     "output_type": "execute_result"
    }
   ],
   "source": [
    "from scipy.special import inv_boxcox\n",
    "pred = model.predict(test).ravel()\n",
    "pred_org = inv_boxcox(pred, l2)\n",
    "\n",
    "submission = pd.DataFrame({\"UID\": uid, \"채무 불이행 확률\": pred})\n",
    "submission.to_csv(\"C:/Users/yunju/OneDrive/바탕 화면/submissions/채무불이행 예측/submission7.csv\", index = False)\n",
    "submission.head()"
   ]
  }
 ],
 "metadata": {
  "kernelspec": {
   "display_name": "Python 3",
   "language": "python",
   "name": "python3"
  },
  "language_info": {
   "codemirror_mode": {
    "name": "ipython",
    "version": 3
   },
   "file_extension": ".py",
   "mimetype": "text/x-python",
   "name": "python",
   "nbconvert_exporter": "python",
   "pygments_lexer": "ipython3",
   "version": "3.11.9"
  }
 },
 "nbformat": 4,
 "nbformat_minor": 2
}
